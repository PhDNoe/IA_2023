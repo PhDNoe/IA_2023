{
  "nbformat": 4,
  "nbformat_minor": 0,
  "metadata": {
    "colab": {
      "provenance": [],
      "authorship_tag": "ABX9TyOgn//hwSNEGWttgEoxFz82",
      "include_colab_link": true
    },
    "kernelspec": {
      "name": "python3",
      "display_name": "Python 3"
    },
    "language_info": {
      "name": "python"
    }
  },
  "cells": [
    {
      "cell_type": "markdown",
      "metadata": {
        "id": "view-in-github",
        "colab_type": "text"
      },
      "source": [
        "<a href=\"https://colab.research.google.com/github/PhDNoe/IA_2023/blob/main/Inteligencia_Artificial_Crash_Course.ipynb\" target=\"_parent\"><img src=\"https://colab.research.google.com/assets/colab-badge.svg\" alt=\"Open In Colab\"/></a>"
      ]
    },
    {
      "cell_type": "markdown",
      "source": [
        "<img src=\"https://user-images.githubusercontent.com/7065401/52071927-c1cd7100-2562-11e9-908a-dde91ba14e59.png\" width = 600>\n",
        "\n",
        "# Python Crash Course\n",
        "\n",
        "**Autora:** Noe  👻  👻 \n",
        "\n",
        "Fecha Inicial: Julio 2022\n",
        "\n",
        "Este minicurso tiene como objetivo darle el empujoncito inicial que necesita para arrancar su camino en la Inteligencia Artificial.<br>\n",
        "\n",
        "**Pre-requisitos:** suponemos que usted tiene conocimientos de programación estructurada y POO.\n",
        "\n",
        "<img src=\"https://user-images.githubusercontent.com/7065401/52071927-c1cd7100-2562-11e9-908a-dde91ba14e59.png\" width = 600>\n",
        "\n",
        "## ¿ Qué es Python?\n",
        "\n",
        "* Python es un lenguaje de programación de alto nivel.\n",
        "* Es multiparadigma (programación imperativa y POO)\n",
        "* Es multiplataforma\n",
        "* Es interpretado\n",
        "* Tiene tipado dinámico \n",
        "* Es fuertemente tipado\n",
        "\n",
        "<img src=\"https://user-images.githubusercontent.com/7065401/52071927-c1cd7100-2562-11e9-908a-dde91ba14e59.png\" width = 600>\n",
        "\n",
        "## Sintaxis\n",
        "\n",
        "* Fue diseñado para ser leído con facilidad. \n",
        "* Utiliza palabras en inglés donde otros lenguajes usan símbolos.\n",
        "* No utiliza llaves { } como los lenguajes basados en C.\n",
        "* No necesita punto y coma ; para indicar fin de sentencia.\n",
        "* Trabaja con indentación obligatoria (se debe ser cuidadoso con los espacios y los tabs)\n",
        "\n",
        "\n",
        "<img src=\"https://user-images.githubusercontent.com/7065401/52071927-c1cd7100-2562-11e9-908a-dde91ba14e59.png\" width = 600>\n",
        "\n",
        "## Tipos de datos \n",
        "\n",
        "* Numericos\n",
        "    * Enteros (int)\n",
        "    * Flotantes (float)\n",
        "    * Complejos (complex)\n",
        "* Booleanos (bool)\n",
        "* Strings\n",
        "* Listas (list)\n",
        "* Tuplas (tuple)\n",
        "* Conjuntos (set)\n",
        "* Diccionarios (dict)\n",
        "* None\n",
        "\n",
        "<img src=\"https://user-images.githubusercontent.com/7065401/52071927-c1cd7100-2562-11e9-908a-dde91ba14e59.png\" width = 600>\n",
        "\n",
        "## Tipos de datos Numéricos\n",
        "\n",
        "<img src=\"https://user-images.githubusercontent.com/7065401/52071927-c1cd7100-2562-11e9-908a-dde91ba14e59.png\" width = 600>\n",
        "\n",
        "### Enteros\n",
        "\n",
        "<img src=\"https://user-images.githubusercontent.com/7065401/52071927-c1cd7100-2562-11e9-908a-dde91ba14e59.png\" width = 600>\n"
      ],
      "metadata": {
        "id": "Qnynj9uAXTBk"
      }
    },
    {
      "cell_type": "code",
      "source": [
        "\n",
        "\n",
        "a = 16\n",
        "b = 45.0\n",
        "a = \"perro\"\n",
        "\n",
        "print(type(a))\n",
        "print(type(b))"
      ],
      "metadata": {
        "colab": {
          "base_uri": "https://localhost:8080/"
        },
        "id": "A8Ty_Xt1YzuC",
        "outputId": "f0a8f995-7a10-4b6c-a790-4b0c71ae73ca"
      },
      "execution_count": null,
      "outputs": [
        {
          "output_type": "stream",
          "name": "stdout",
          "text": [
            "<class 'str'>\n",
            "<class 'float'>\n"
          ]
        }
      ]
    },
    {
      "cell_type": "code",
      "execution_count": null,
      "metadata": {
        "id": "op0y7oFSXMHw",
        "colab": {
          "base_uri": "https://localhost:8080/"
        },
        "outputId": "7f5e4727-fddf-4a3c-c959-b367e2169ecf"
      },
      "outputs": [
        {
          "output_type": "stream",
          "name": "stdout",
          "text": [
            "myInt1 = 5\n",
            "myInt2 = 18\n",
            "type(myInt1) = <class 'int'>\n",
            "type(myInt2) = <class 'int'>\n"
          ]
        }
      ],
      "source": [
        "# Definimos algunas variables enteras\n",
        "myInt1 = 5\n",
        "myInt2 = 18\n",
        "\n",
        "print(f\"myInt1 = {myInt1}\")\n",
        "print(f\"myInt2 = {myInt2}\")\n",
        "\n",
        "print(f\"type(myInt1) = {type(myInt1)}\")\n",
        "print(f\"type(myInt2) = {type(myInt2)}\")\n",
        "\n"
      ]
    },
    {
      "cell_type": "markdown",
      "source": [
        "<img src=\"https://user-images.githubusercontent.com/7065401/52071927-c1cd7100-2562-11e9-908a-dde91ba14e59.png\" width = 600>\n",
        "\n",
        "### Flotantes\n",
        "\n",
        "<img src=\"https://user-images.githubusercontent.com/7065401/52071927-c1cd7100-2562-11e9-908a-dde91ba14e59.png\" width = 600>"
      ],
      "metadata": {
        "id": "lnLmliFUZiVs"
      }
    },
    {
      "cell_type": "code",
      "source": [
        "myFloat1 = 15.3\n",
        "myFloat2 = 18.0\n",
        "\n",
        "print(f\"myFloat1 = {myFloat1}\")\n",
        "print(f\"myFloat2 = {myFloat2}\")\n",
        "\n",
        "print(f\"type(myFloat1) = {type(myFloat1)}\")\n",
        "print(f\"type(myFloat1) = {type(myFloat1)}\")"
      ],
      "metadata": {
        "id": "ybMA2cjrZlHz",
        "colab": {
          "base_uri": "https://localhost:8080/"
        },
        "outputId": "2e09712c-e44f-4b9d-e756-f55ba6e46f11"
      },
      "execution_count": null,
      "outputs": [
        {
          "output_type": "stream",
          "name": "stdout",
          "text": [
            "myFloat1 = 15.3\n",
            "myFloat2 = 18.0\n",
            "type(myFloat1) = <class 'float'>\n",
            "type(myFloat1) = <class 'float'>\n"
          ]
        }
      ]
    },
    {
      "cell_type": "markdown",
      "source": [
        "<img src=\"https://user-images.githubusercontent.com/7065401/52071927-c1cd7100-2562-11e9-908a-dde91ba14e59.png\" width = 600>\n",
        "\n",
        "### Complejos\n",
        "\n",
        "<img src=\"https://user-images.githubusercontent.com/7065401/52071927-c1cd7100-2562-11e9-908a-dde91ba14e59.png\" width = 600>"
      ],
      "metadata": {
        "id": "ihEQm9VRZ7wK"
      }
    },
    {
      "cell_type": "code",
      "source": [
        "a = 15-5j\n",
        "a.conjugate()\n",
        "a.real\n",
        "a.imag"
      ],
      "metadata": {
        "colab": {
          "base_uri": "https://localhost:8080/"
        },
        "id": "fWGOtbyfZyaQ",
        "outputId": "459e6c9c-8066-4759-efe0-968a1617b7ab"
      },
      "execution_count": null,
      "outputs": [
        {
          "output_type": "execute_result",
          "data": {
            "text/plain": [
              "(15+5j)"
            ]
          },
          "metadata": {},
          "execution_count": 13
        }
      ]
    },
    {
      "cell_type": "code",
      "source": [
        "myComplex1 = 15 + 3j\n",
        "\n",
        "print(f\"myComplex1 = {myComplex1}\")\n",
        "print(f\"type(myComplex1) = {type(myComplex1)}\")\n",
        "\n",
        "print(f\"\\nparte real = {myComplex1.real}\")\n",
        "print(f\"Parte imaginaria = {myComplex1.imag}\")\n",
        "\n",
        "print(f\"Conjugado = {myComplex1.conjugate()}\")  ## Un numero tiene un metodo asociado?? --> No es \"tan numero\"\n"
      ],
      "metadata": {
        "id": "ZrdffHEjaCFo",
        "colab": {
          "base_uri": "https://localhost:8080/"
        },
        "outputId": "1db85881-233e-42cb-f9cf-f781803082f1"
      },
      "execution_count": null,
      "outputs": [
        {
          "output_type": "stream",
          "name": "stdout",
          "text": [
            "myComplex1 = (15+3j)\n",
            "type(myComplex1) = <class 'complex'>\n",
            "\n",
            "parte real = 15.0\n",
            "Parte imaginaria = 3.0\n",
            "Conjugado = (15-3j)\n"
          ]
        }
      ]
    },
    {
      "cell_type": "markdown",
      "source": [
        "<img src=\"https://user-images.githubusercontent.com/7065401/52071927-c1cd7100-2562-11e9-908a-dde91ba14e59.png\" width = 600>\n",
        "\n",
        "## Operaciones básicas\n",
        "\n",
        "<img src=\"https://user-images.githubusercontent.com/7065401/52071927-c1cd7100-2562-11e9-908a-dde91ba14e59.png\" width = 600>\n",
        "\n",
        "### Suma\n",
        "\n",
        "<img src=\"https://user-images.githubusercontent.com/7065401/52071927-c1cd7100-2562-11e9-908a-dde91ba14e59.png\" width = 600>"
      ],
      "metadata": {
        "id": "pXVvBWIlaykn"
      }
    },
    {
      "cell_type": "code",
      "source": [
        "a = 85\n",
        "b = 15\n",
        "\n",
        "a % b"
      ],
      "metadata": {
        "colab": {
          "base_uri": "https://localhost:8080/"
        },
        "id": "_Nrz-IrkadCf",
        "outputId": "faa9f7b1-a532-4387-c4c7-665eb2741bdb"
      },
      "execution_count": null,
      "outputs": [
        {
          "output_type": "execute_result",
          "data": {
            "text/plain": [
              "10"
            ]
          },
          "metadata": {},
          "execution_count": 20
        }
      ]
    },
    {
      "cell_type": "code",
      "source": [
        "# Suma\n",
        "a = 15\n",
        "b = 5\n",
        "c = 15.0\n",
        "d = 5.5\n",
        "\n",
        "print(f\"{a} + {b} = {a+b}\")  # Entero mas entero\n",
        "print(f\"{a} + {c} = {a+c}\")  # Entero mas flotante\n",
        "print(f\"{c} + {d} = {c+d}\")  # Flotante mas flotante\n"
      ],
      "metadata": {
        "id": "LbX46TU2a2Kj"
      },
      "execution_count": null,
      "outputs": []
    },
    {
      "cell_type": "markdown",
      "source": [
        "<img src=\"https://user-images.githubusercontent.com/7065401/52071927-c1cd7100-2562-11e9-908a-dde91ba14e59.png\" width = 600>\n",
        "\n",
        "### Producto\n",
        "\n",
        "<img src=\"https://user-images.githubusercontent.com/7065401/52071927-c1cd7100-2562-11e9-908a-dde91ba14e59.png\" width = 600>"
      ],
      "metadata": {
        "id": "7wJ5Z0RdM-qG"
      }
    },
    {
      "cell_type": "code",
      "source": [
        "a = \"perro\"\n",
        "b = \"gato\"*8\n",
        "print(\"a --> \",a)\n",
        "print(\"b --> \",b)\n",
        "\n",
        "print(f\"a --> {a}     b --> {b}\")"
      ],
      "metadata": {
        "colab": {
          "base_uri": "https://localhost:8080/"
        },
        "id": "o9Nx-l_fbbJi",
        "outputId": "6cb7238d-4f8c-42d3-bea5-8782cd55737a"
      },
      "execution_count": null,
      "outputs": [
        {
          "output_type": "stream",
          "name": "stdout",
          "text": [
            "a -->  perro\n",
            "b -->  gatogatogatogatogatogatogatogato\n",
            "a --> perro     b --> gatogatogatogatogatogatogatogato\n"
          ]
        }
      ]
    },
    {
      "cell_type": "code",
      "source": [
        "# producto\n",
        "a = 15\n",
        "b = 5\n",
        "c = 15.0\n",
        "d = 5.5\n",
        "\n",
        "print(f\"{a} * {b} = {a*b}\")  \n",
        "print(f\"{a} * {c} = {a*c}\")  \n",
        "print(f\"{c} * {d} = {c*d}\")  "
      ],
      "metadata": {
        "id": "54uCx9B-bddv",
        "colab": {
          "base_uri": "https://localhost:8080/"
        },
        "outputId": "61546b1c-f884-4de5-d7ef-80ed2ebe0009"
      },
      "execution_count": null,
      "outputs": [
        {
          "output_type": "stream",
          "name": "stdout",
          "text": [
            "15 * 5 = 75\n",
            "15 * 15.0 = 225.0\n",
            "15.0 * 5.5 = 82.5\n"
          ]
        }
      ]
    },
    {
      "cell_type": "markdown",
      "source": [
        "<img src=\"https://user-images.githubusercontent.com/7065401/52071927-c1cd7100-2562-11e9-908a-dde91ba14e59.png\" width = 600>\n",
        "\n",
        "### División\n",
        "\n",
        "<img src=\"https://user-images.githubusercontent.com/7065401/52071927-c1cd7100-2562-11e9-908a-dde91ba14e59.png\" width = 600>"
      ],
      "metadata": {
        "id": "_SIqMQl6NCPD"
      }
    },
    {
      "cell_type": "code",
      "source": [
        "# Division\n",
        "a = 15\n",
        "b = 5\n",
        "c = 15.0\n",
        "d = 5.5\n",
        "\n",
        "# La division de enteros da flotante\n",
        "print(f\"{a} / {b} = {a/b}\")  \n",
        "\n",
        "# Doble barra genera la division entera\n",
        "print(f\"{a} // {b} = {a//b}\") \n",
        "\n",
        "# Para los flotantes usar la division comun\n",
        "print(f\"{c} / {d} = {c/d}\")\n",
        "\n",
        "# Para redondear\n",
        "print(f\"{c} / {d} = {round(c/d, 2)}\")\n"
      ],
      "metadata": {
        "id": "aLCFqpFTbpRG",
        "colab": {
          "base_uri": "https://localhost:8080/"
        },
        "outputId": "947f55fa-b857-4361-eeb8-09961f51bb4d"
      },
      "execution_count": null,
      "outputs": [
        {
          "output_type": "stream",
          "name": "stdout",
          "text": [
            "15 / 5 = 3.0\n",
            "15 // 5 = 3\n",
            "15.0 / 5.5 = 2.727272727272727\n",
            "15.0 / 5.5 = 2.73\n"
          ]
        }
      ]
    },
    {
      "cell_type": "markdown",
      "source": [
        "<img src=\"https://user-images.githubusercontent.com/7065401/52071927-c1cd7100-2562-11e9-908a-dde91ba14e59.png\" width = 600>\n",
        "\n",
        "### Módulo\n",
        "\n",
        "<img src=\"https://user-images.githubusercontent.com/7065401/52071927-c1cd7100-2562-11e9-908a-dde91ba14e59.png\" width = 600>"
      ],
      "metadata": {
        "id": "Ya5_qID8NzB5"
      }
    },
    {
      "cell_type": "code",
      "source": [
        "a = 15\n",
        "b = 4\n",
        "\n",
        "print(f\"El resto de {a} / {b} es = {a%b}\")"
      ],
      "metadata": {
        "id": "rDdlAb-0N2IK"
      },
      "execution_count": null,
      "outputs": []
    },
    {
      "cell_type": "markdown",
      "source": [
        "<img src=\"https://user-images.githubusercontent.com/7065401/52071927-c1cd7100-2562-11e9-908a-dde91ba14e59.png\" width = 600>\n",
        "\n",
        "### Potencia\n",
        "\n",
        "<img src=\"https://user-images.githubusercontent.com/7065401/52071927-c1cd7100-2562-11e9-908a-dde91ba14e59.png\" width = 600>"
      ],
      "metadata": {
        "id": "opot0agCNIAN"
      }
    },
    {
      "cell_type": "code",
      "source": [
        "3**8"
      ],
      "metadata": {
        "colab": {
          "base_uri": "https://localhost:8080/"
        },
        "id": "cYQ6DL_kcIij",
        "outputId": "d37fd2af-2dc6-44e1-e8b3-1b1eaa139705"
      },
      "execution_count": null,
      "outputs": [
        {
          "output_type": "execute_result",
          "data": {
            "text/plain": [
              "6561"
            ]
          },
          "metadata": {},
          "execution_count": 28
        }
      ]
    },
    {
      "cell_type": "code",
      "source": [
        "a = 4\n",
        "b = 5\n",
        "\n",
        "print(f\"{a} ^ {b} = {a**b}\")\n",
        "print(f\"{a} ^ {3} = {a**3}\")\n",
        "print(f\"{b} ^ {-1} = {b**-1}\")"
      ],
      "metadata": {
        "id": "ROHuVcgVNKw5"
      },
      "execution_count": null,
      "outputs": []
    },
    {
      "cell_type": "markdown",
      "source": [
        "<img src=\"https://user-images.githubusercontent.com/7065401/52071927-c1cd7100-2562-11e9-908a-dde91ba14e59.png\" width = 600>\n",
        "\n",
        "## Tipo de datos: Booleanos\n",
        "\n",
        "<img src=\"https://user-images.githubusercontent.com/7065401/52071927-c1cd7100-2562-11e9-908a-dde91ba14e59.png\" width = 600>\n",
        "\n",
        "``` \n",
        "a = True \n",
        "b = False\n",
        "\n",
        "c = 8 > 5  # True\n",
        "```\n",
        "\n",
        "<img src=\"https://user-images.githubusercontent.com/7065401/52071927-c1cd7100-2562-11e9-908a-dde91ba14e59.png\" width = 600>\n",
        "\n",
        "### Operaciones con booleanos\n",
        "\n",
        "<img src=\"https://user-images.githubusercontent.com/7065401/52071927-c1cd7100-2562-11e9-908a-dde91ba14e59.png\" width = 600>"
      ],
      "metadata": {
        "id": "jZeztaTzOZOq"
      }
    },
    {
      "cell_type": "code",
      "source": [
        "a = False\n",
        "\n",
        "not a"
      ],
      "metadata": {
        "colab": {
          "base_uri": "https://localhost:8080/"
        },
        "id": "WFyBOTnIcW0v",
        "outputId": "3ab4a0d4-cf05-47ae-bce7-e028f578ab79"
      },
      "execution_count": null,
      "outputs": [
        {
          "output_type": "execute_result",
          "data": {
            "text/plain": [
              "True"
            ]
          },
          "metadata": {},
          "execution_count": 34
        }
      ]
    },
    {
      "cell_type": "code",
      "source": [
        "a = True\n",
        "b = False\n",
        "\n",
        "print(\"type(a) \", type(a))"
      ],
      "metadata": {
        "id": "4G82hFWKOsz_",
        "colab": {
          "base_uri": "https://localhost:8080/"
        },
        "outputId": "377022b5-4af3-4af5-f637-1c78e5352e5f"
      },
      "execution_count": null,
      "outputs": [
        {
          "output_type": "stream",
          "name": "stdout",
          "text": [
            "type(a)  <class 'bool'>\n"
          ]
        }
      ]
    },
    {
      "cell_type": "markdown",
      "source": [
        "<img src=\"https://user-images.githubusercontent.com/7065401/52071927-c1cd7100-2562-11e9-908a-dde91ba14e59.png\" width = 600>\n",
        "\n",
        "### Not\n",
        "\n",
        "<img src=\"https://user-images.githubusercontent.com/7065401/52071927-c1cd7100-2562-11e9-908a-dde91ba14e59.png\" width = 600>"
      ],
      "metadata": {
        "id": "K9avRu8gPu5f"
      }
    },
    {
      "cell_type": "code",
      "source": [
        "print(f\"not {False} = {not False}\")\n",
        "print(f\"not {True} = {not True}\")"
      ],
      "metadata": {
        "id": "5pjbtcqdPw8z"
      },
      "execution_count": null,
      "outputs": []
    },
    {
      "cell_type": "markdown",
      "source": [
        "<img src=\"https://user-images.githubusercontent.com/7065401/52071927-c1cd7100-2562-11e9-908a-dde91ba14e59.png\" width = 600>\n",
        "\n",
        "### And\n",
        "\n",
        "<img src=\"https://user-images.githubusercontent.com/7065401/52071927-c1cd7100-2562-11e9-908a-dde91ba14e59.png\" width = 600>"
      ],
      "metadata": {
        "id": "_q_deNwEPodn"
      }
    },
    {
      "cell_type": "code",
      "source": [
        "# And\n",
        "print(f\" {True} and {True} = {True and True}\")\n",
        "print(f\" {True} and {False} = {True and False}\")\n",
        "print(f\" {False} and {True} = {False and True}\")\n",
        "print(f\" {False} and {False} = {False and False}\")"
      ],
      "metadata": {
        "id": "aIDzocmlO9yc",
        "colab": {
          "base_uri": "https://localhost:8080/"
        },
        "outputId": "86260292-1a6a-4f0b-8fe4-e155fed93f4b"
      },
      "execution_count": null,
      "outputs": [
        {
          "output_type": "stream",
          "name": "stdout",
          "text": [
            " True and True = True\n",
            " True and False = False\n",
            " False and True = False\n",
            " False and False = False\n"
          ]
        }
      ]
    },
    {
      "cell_type": "markdown",
      "source": [
        "<img src=\"https://user-images.githubusercontent.com/7065401/52071927-c1cd7100-2562-11e9-908a-dde91ba14e59.png\" width = 600>\n",
        "\n",
        "### Or\n",
        "\n",
        "<img src=\"https://user-images.githubusercontent.com/7065401/52071927-c1cd7100-2562-11e9-908a-dde91ba14e59.png\" width = 600>"
      ],
      "metadata": {
        "id": "MAh-RoJsPrxs"
      }
    },
    {
      "cell_type": "code",
      "source": [
        "# Or\n",
        "print(f\" {True} or {True} = {True or True}\")\n",
        "print(f\" {True} or {False} = {True or False}\")\n",
        "print(f\" {False} or {True} = {False or True}\")\n",
        "print(f\" {False} or {False} = {False or False}\")"
      ],
      "metadata": {
        "id": "0kGRhpUGRY9s",
        "colab": {
          "base_uri": "https://localhost:8080/"
        },
        "outputId": "8cd3ce71-cf57-4a67-e8bc-f4ca6a871f69"
      },
      "execution_count": null,
      "outputs": [
        {
          "output_type": "stream",
          "name": "stdout",
          "text": [
            " True or True = True\n",
            " True or False = True\n",
            " False or True = True\n",
            " False or False = False\n"
          ]
        }
      ]
    },
    {
      "cell_type": "markdown",
      "source": [
        "<img src=\"https://user-images.githubusercontent.com/7065401/52071927-c1cd7100-2562-11e9-908a-dde91ba14e59.png\" width = 600>\n",
        "\n",
        "### XOR\n",
        "\n",
        "<img src=\"https://user-images.githubusercontent.com/7065401/52071927-c1cd7100-2562-11e9-908a-dde91ba14e59.png\" width = 600>"
      ],
      "metadata": {
        "id": "8Kax1QjYRr0_"
      }
    },
    {
      "cell_type": "code",
      "source": [
        "# Xor\n",
        "print(f\" {True} xor {True} = {True ^ True}\")\n",
        "print(f\" {True} xor {False} = {True ^ False}\")\n",
        "print(f\" {False} xor {True} = {False ^ True}\")\n",
        "print(f\" {False} xor {False} = {False ^ False}\")"
      ],
      "metadata": {
        "id": "f3907LEJRvuP",
        "colab": {
          "base_uri": "https://localhost:8080/"
        },
        "outputId": "50f2af02-eb5e-42f9-fa8c-2a2b272f59cd"
      },
      "execution_count": null,
      "outputs": [
        {
          "output_type": "stream",
          "name": "stdout",
          "text": [
            " True xor True = False\n",
            " True xor False = True\n",
            " False xor True = True\n",
            " False xor False = False\n"
          ]
        }
      ]
    },
    {
      "cell_type": "markdown",
      "source": [
        "<img src=\"https://user-images.githubusercontent.com/7065401/52071927-c1cd7100-2562-11e9-908a-dde91ba14e59.png\" width = 600>\n",
        "\n",
        "## Strings\n",
        "\n",
        "Los strings son inmutables.\n",
        "\n",
        "<img src=\"https://user-images.githubusercontent.com/7065401/52071927-c1cd7100-2562-11e9-908a-dde91ba14e59.png\" width = 600>"
      ],
      "metadata": {
        "id": "1oYd8lxL-O-q"
      }
    },
    {
      "cell_type": "code",
      "source": [
        "str1 = \"Esto es un string\"\n",
        "str2 = 'Esto tambien es un string'\n",
        "\n",
        "str3 = \"Esto es un string con una comilla simple ' dentro\"\n",
        "str4 = 'Esto es un string con una comilla doble \" dentro'\n",
        "\n",
        "str5 = \"Esto es un string con una comilla doble \\\" \"\n",
        "str6 = 'Esto es un string con una comilla doble \\' '\n",
        "\n",
        "print(str1)\n",
        "print(str2)\n",
        "print(str3)\n",
        "print(str4)\n",
        "print(str5)\n",
        "print(str6)"
      ],
      "metadata": {
        "id": "Y-A5dFZX-ShQ",
        "colab": {
          "base_uri": "https://localhost:8080/"
        },
        "outputId": "3720dc92-db8b-4814-ec94-0c9c0e112c58"
      },
      "execution_count": null,
      "outputs": [
        {
          "output_type": "stream",
          "name": "stdout",
          "text": [
            "Esto es un string\n",
            "Esto tambien es un string\n",
            "Esto es un string con una comilla simple ' dentro\n",
            "Esto es un string con una comilla doble \" dentro\n",
            "Esto es un string con una comilla doble \" \n",
            "Esto es un string con una comilla doble ' \n"
          ]
        }
      ]
    },
    {
      "cell_type": "markdown",
      "source": [
        "<img src=\"https://user-images.githubusercontent.com/7065401/52071927-c1cd7100-2562-11e9-908a-dde91ba14e59.png\" width = 600>\n",
        "\n",
        "### **Strings:** Métodos lower(), upper() y capitalize()\n",
        "\n",
        "<img src=\"https://user-images.githubusercontent.com/7065401/52071927-c1cd7100-2562-11e9-908a-dde91ba14e59.png\" width = 600>"
      ],
      "metadata": {
        "id": "3-v3_9O9Aoco"
      }
    },
    {
      "cell_type": "code",
      "source": [
        "# Algunos metodos para strings\n",
        "\n",
        "str1 = \"EL PERRO ES MUY LINDO\"\n",
        "str2 = \"este string no tiene mayusculas\"\n",
        "\n",
        "\n",
        "print(str1)\n",
        "# Todo a minusculas\n",
        "print(str1.lower())\n",
        "print(str1.capitalize())\n",
        "print(\"-----------------------------------------------------------------------\")\n",
        "print(str2)\n",
        "print(str2.upper())\n",
        "print(str2.capitalize())\n",
        "print(\"-----------------------------------------------------------------------\")\n",
        "# \n"
      ],
      "metadata": {
        "id": "QYSLuBYVAADX",
        "colab": {
          "base_uri": "https://localhost:8080/"
        },
        "outputId": "99aa0a4f-238f-46bc-a05f-14feacf517cb"
      },
      "execution_count": null,
      "outputs": [
        {
          "output_type": "stream",
          "name": "stdout",
          "text": [
            "EL PERRO ES MUY LINDO\n",
            "el perro es muy lindo\n",
            "El perro es muy lindo\n",
            "-----------------------------------------------------------------------\n",
            "este string no tiene mayusculas\n",
            "ESTE STRING NO TIENE MAYUSCULAS\n",
            "Este string no tiene mayusculas\n",
            "-----------------------------------------------------------------------\n"
          ]
        }
      ]
    },
    {
      "cell_type": "markdown",
      "source": [
        "<img src=\"https://user-images.githubusercontent.com/7065401/52071927-c1cd7100-2562-11e9-908a-dde91ba14e59.png\" width = 600>\n",
        "\n",
        "### **Strings:** Métodos strip() y split()\n",
        "\n",
        "<img src=\"https://user-images.githubusercontent.com/7065401/52071927-c1cd7100-2562-11e9-908a-dde91ba14e59.png\" width = 600>"
      ],
      "metadata": {
        "id": "FHjt_KAtA5QC"
      }
    },
    {
      "cell_type": "code",
      "source": [
        "# Strip\n",
        "str1 = \"                 tengo muchos espacios en blanco                 \"\n",
        "\n",
        "print(f\"Vamos a mostrar la cadena str1= '{str1}' para ver que molestos son los espacios en blanco\")\n",
        "\n",
        "str2 = str1.strip()\n",
        "print(f\"Vamos a mostrar la cadena str2= '{str2}' para ver linda queda sin espacios de mas\")"
      ],
      "metadata": {
        "id": "lKKSWD4kBZ4R",
        "colab": {
          "base_uri": "https://localhost:8080/"
        },
        "outputId": "ded4953a-45cf-4796-8321-45ee34bcc3c6"
      },
      "execution_count": null,
      "outputs": [
        {
          "output_type": "stream",
          "name": "stdout",
          "text": [
            "Vamos a mostrar la cadena str1= '                 tengo muchos espacios en blanco                 ' para ver que molestos son los espacios en blanco\n",
            "Vamos a mostrar la cadena str2= 'tengo muchos espacios en blanco' para ver linda queda sin espacios de mas\n"
          ]
        }
      ]
    },
    {
      "cell_type": "code",
      "source": [
        "str1 = \"Habia una vez una cabra llamada Martita\"\n",
        "str2 = \"Esto;es;una:frase;separada;por;punto;y;coma\"\n",
        "\n",
        "list1 = str1.split()\n",
        "list2 = str2.split(sep=\";\")\n",
        "\n",
        "print(\"str1 = \", str1)\n",
        "print(\"list1 = \", list1)\n",
        "print(\"------------------------------------------------------------------------\")\n",
        "print(\"str2 = \", str2)\n",
        "print(\"list2 = \", list2)\n",
        "print(\"------------------------------------------------------------------------\")"
      ],
      "metadata": {
        "id": "MkzydShYCFYw"
      },
      "execution_count": null,
      "outputs": []
    },
    {
      "cell_type": "markdown",
      "source": [
        "<img src=\"https://user-images.githubusercontent.com/7065401/52071927-c1cd7100-2562-11e9-908a-dde91ba14e59.png\" width = 600>\n",
        "\n",
        "## Listas, tuplas y sets\n",
        "\n",
        "<img src=\"https://user-images.githubusercontent.com/7065401/52071927-c1cd7100-2562-11e9-908a-dde91ba14e59.png\" width = 600>\n",
        "\n",
        "* Lista:  Colección de cosas separadas por comas, encerradas entre corchetes. \n",
        "    * Mutable\n",
        "    * Con orden\n",
        "* Tupla: Colección de cosas separadas por comas, encerradas entre paréntesis. \n",
        "    * Inmutable\n",
        "    * Con orden\n",
        "* Set: Colección de cosas *únicas* separadas por comas, encerradas entre llaves.\n",
        "    * No admite repetidos \n",
        "    * No indexable (not subscriptable)\n",
        "\n",
        "<img src=\"https://user-images.githubusercontent.com/7065401/52071927-c1cd7100-2562-11e9-908a-dde91ba14e59.png\" width = 600>"
      ],
      "metadata": {
        "id": "kEMo3PznSEHP"
      }
    },
    {
      "cell_type": "code",
      "source": [
        "# Lista\n",
        "a = [11,3,5,\"perro\"]\n",
        "a[2] = 1800\n",
        "a"
      ],
      "metadata": {
        "colab": {
          "base_uri": "https://localhost:8080/"
        },
        "id": "UM_7qo2LeZ9w",
        "outputId": "a41a5440-574a-4978-f6d5-948aa1d212ff"
      },
      "execution_count": null,
      "outputs": [
        {
          "output_type": "execute_result",
          "data": {
            "text/plain": [
              "[11, 3, 1800, 'perro']"
            ]
          },
          "metadata": {},
          "execution_count": 46
        }
      ]
    },
    {
      "cell_type": "code",
      "source": [
        "a = (11,3,5,\"perro\")\n",
        "a = (11,3,5,\"gato\")\n",
        "a"
      ],
      "metadata": {
        "colab": {
          "base_uri": "https://localhost:8080/"
        },
        "id": "KKbNK_c-fCg8",
        "outputId": "c0c7a2f1-7b65-4563-cbdc-1eadb63ccce3"
      },
      "execution_count": null,
      "outputs": [
        {
          "output_type": "execute_result",
          "data": {
            "text/plain": [
              "(11, 3, 5, 'gato')"
            ]
          },
          "metadata": {},
          "execution_count": 52
        }
      ]
    },
    {
      "cell_type": "code",
      "source": [
        "lista_x = [1,2,3]\n",
        "tupla_x = (1,2,3)\n",
        "set_x = {1,2,3,1,1}\n",
        "\n",
        "print(\"lista \",lista_x)\n",
        "print(\"tupla\", tupla_x)\n",
        "print(\"set \", set_x)\n"
      ],
      "metadata": {
        "id": "x_0WUCZoqpmm",
        "colab": {
          "base_uri": "https://localhost:8080/"
        },
        "outputId": "99b9e3cf-78a0-4cc8-cc72-cb8d2dcd6894"
      },
      "execution_count": null,
      "outputs": [
        {
          "output_type": "stream",
          "name": "stdout",
          "text": [
            "lista  [1, 2, 3]\n",
            "tupla (1, 2, 3)\n",
            "set  {1, 2, 3}\n"
          ]
        }
      ]
    },
    {
      "cell_type": "markdown",
      "source": [
        "<img src=\"https://user-images.githubusercontent.com/7065401/52071927-c1cd7100-2562-11e9-908a-dde91ba14e59.png\" width = 600>\n",
        "\n",
        "### Listas\n",
        "\n",
        "<img src=\"https://user-images.githubusercontent.com/7065401/52071927-c1cd7100-2562-11e9-908a-dde91ba14e59.png\" width = 600>"
      ],
      "metadata": {
        "id": "ArCHI465T1A-"
      }
    },
    {
      "cell_type": "code",
      "source": [
        "lista = [0, 1, 2, 3, 4, 5, 6, 7, 8, 9]\n",
        "lista2 = [1, 2, 3, [1, 2, 5], \"perro\", \"banana\"]\n",
        "\n",
        "print(lista)\n",
        "print(lista2)\n",
        "\n",
        "print(\"----------------------------------------------------------------------\")\n",
        "print(type(lista))\n",
        "print(type(lista2))\n",
        "\n",
        "print(\"----------------------------------------------------------------------\")\n",
        "print(\"Longitud de la lista = \", len(lista))\n",
        "print(\"Longitud de lista2 = \", len(lista2))\n",
        "\n"
      ],
      "metadata": {
        "id": "PNejPpvQSHeS",
        "colab": {
          "base_uri": "https://localhost:8080/"
        },
        "outputId": "b14269b2-6be8-487b-e3e9-7183a9349ef5"
      },
      "execution_count": null,
      "outputs": [
        {
          "output_type": "stream",
          "name": "stdout",
          "text": [
            "[0, 1, 2, 3, 4, 5, 6, 7, 8, 9]\n",
            "[1, 2, 3, [1, 2, 5], 'perro', 'banana']\n",
            "----------------------------------------------------------------------\n",
            "<class 'list'>\n",
            "<class 'list'>\n",
            "----------------------------------------------------------------------\n",
            "Longitud de la lista =  10\n",
            "Longitud de lista2 =  6\n"
          ]
        }
      ]
    },
    {
      "cell_type": "markdown",
      "source": [
        "\n",
        "<img src=\"https://user-images.githubusercontent.com/7065401/52071927-c1cd7100-2562-11e9-908a-dde91ba14e59.png\" width = 600>\n",
        "\n",
        "## Accediendo a los elementos de una lista\n",
        "\n",
        "<img src=\"https://user-images.githubusercontent.com/7065401/52071927-c1cd7100-2562-11e9-908a-dde91ba14e59.png\" width = 600>\n"
      ],
      "metadata": {
        "id": "O_LGBLKJUZjk"
      }
    },
    {
      "cell_type": "code",
      "source": [
        "a = [1,2,3]"
      ],
      "metadata": {
        "colab": {
          "base_uri": "https://localhost:8080/",
          "height": 187
        },
        "id": "BRECxAqff5gP",
        "outputId": "3a54c67f-47e0-4cd1-d53e-bbc1ffb491a3"
      },
      "execution_count": null,
      "outputs": [
        {
          "output_type": "error",
          "ename": "IndexError",
          "evalue": "ignored",
          "traceback": [
            "\u001b[0;31m---------------------------------------------------------------------------\u001b[0m",
            "\u001b[0;31mIndexError\u001b[0m                                Traceback (most recent call last)",
            "\u001b[0;32m<ipython-input-54-23d41b67bf0e>\u001b[0m in \u001b[0;36m<module>\u001b[0;34m\u001b[0m\n\u001b[1;32m      1\u001b[0m \u001b[0ma\u001b[0m \u001b[0;34m=\u001b[0m \u001b[0;34m[\u001b[0m\u001b[0;36m1\u001b[0m\u001b[0;34m,\u001b[0m\u001b[0;36m2\u001b[0m\u001b[0;34m,\u001b[0m\u001b[0;36m3\u001b[0m\u001b[0;34m]\u001b[0m\u001b[0;34m\u001b[0m\u001b[0;34m\u001b[0m\u001b[0m\n\u001b[0;32m----> 2\u001b[0;31m \u001b[0ma\u001b[0m\u001b[0;34m[\u001b[0m\u001b[0;36m15\u001b[0m\u001b[0;34m]\u001b[0m\u001b[0;34m\u001b[0m\u001b[0;34m\u001b[0m\u001b[0m\n\u001b[0m",
            "\u001b[0;31mIndexError\u001b[0m: list index out of range"
          ]
        }
      ]
    },
    {
      "cell_type": "code",
      "source": [
        "a = list(range(21))\n",
        "a[-4:]"
      ],
      "metadata": {
        "colab": {
          "base_uri": "https://localhost:8080/"
        },
        "id": "hrJiA3_QgLI_",
        "outputId": "b64c0ff9-7beb-46a3-d5de-67b29f50a00e"
      },
      "execution_count": null,
      "outputs": [
        {
          "output_type": "execute_result",
          "data": {
            "text/plain": [
              "[17, 18, 19, 20]"
            ]
          },
          "metadata": {},
          "execution_count": 75
        }
      ]
    },
    {
      "cell_type": "code",
      "source": [
        "# Acceder al primer elemento de la lista\n",
        "print(\"----------------------------------------------------------------------\")\n",
        "print(f\"Primer elemento de {lista} =   {lista[0]}\")\n",
        "\n",
        "\n",
        "# Acceder al 4 elemento de la lista2\n",
        "print(\"----------------------------------------------------------------------\")\n",
        "print(f\"Cuarto elemento de {lista2} =   {lista2[3]}\")\n",
        "\n",
        "# Acceder al ultimo elemento de la lista\n",
        "print(\"----------------------------------------------------------------------\")\n",
        "print(f\"Ultimo elemento de {lista} = {lista[-1]}\")\n",
        "\n",
        "# Mostrar los 3 primeros elementos\n",
        "print(\"----------------------------------------------------------------------\")\n",
        "print(\"3 primeros elementos\")\n",
        "print(lista[:3])\n",
        "\n",
        "# Mostrar los 3 ultimos elementos\n",
        "print(\"----------------------------------------------------------------------\")\n",
        "print(\"Ultimos 3 elementos\")\n",
        "print(lista[-3:])\n",
        "\n",
        "# Mostrar los elementos desde la posicion 3 a la  6\n",
        "print(\"----------------------------------------------------------------------\")\n",
        "print(\"Elementos desde la posicion 3 a la 6\")\n",
        "print(lista[2:6])\n",
        "\n",
        "# Mostrar los elementos de las posiciones pares\n",
        "print(\"----------------------------------------------------------------------\")\n",
        "print(\"Elementos en posiciones pares\")\n",
        "print(lista[::2])\n",
        "\n",
        "# Mostrar los elementos de las posiciones impares\n",
        "print(\"----------------------------------------------------------------------\")\n",
        "print(\"Elementos en posiciones impares\")\n",
        "print(lista[1::2])\n",
        "\n",
        "\n",
        "# Mostrar los elementos en orden inverso\n",
        "print(\"----------------------------------------------------------------------\")\n",
        "print(\"Elementos en orden inverso\")\n",
        "print(lista[::-1])\n",
        "\n",
        "print(\"----------------------------------------------------------------------\")\n"
      ],
      "metadata": {
        "id": "Q16RcoM_T5vr",
        "colab": {
          "base_uri": "https://localhost:8080/",
          "height": 599
        },
        "outputId": "68262f2c-a7e0-4a06-ed98-8f85c08b2726"
      },
      "execution_count": null,
      "outputs": [
        {
          "output_type": "stream",
          "name": "stdout",
          "text": [
            "----------------------------------------------------------------------\n",
            "Primer elemento de [0, 1, 2, 3, 4, 5, 6, 7, 8, 9] =   0\n",
            "----------------------------------------------------------------------\n",
            "Cuarto elemento de [1, 2, 3, [1, 2, 5], 'perro', 'banana'] =   [1, 2, 5]\n",
            "----------------------------------------------------------------------\n",
            "Ultimo elemento de [0, 1, 2, 3, 4, 5, 6, 7, 8, 9] = 9\n",
            "----------------------------------------------------------------------\n",
            "3 primeros elementos\n",
            "[0, 1, 2]\n",
            "----------------------------------------------------------------------\n",
            "Ultimos 3 elementos\n",
            "[7, 8, 9]\n",
            "----------------------------------------------------------------------\n",
            "Elementos desde la posicion 3 a la 6\n",
            "[2, 3, 4, 5]\n",
            "----------------------------------------------------------------------\n",
            "Elementos en posiciones pares\n",
            "[0, 2, 4, 6, 8]\n",
            "----------------------------------------------------------------------\n",
            "Elementos en posiciones impares\n"
          ]
        },
        {
          "output_type": "error",
          "ename": "NameError",
          "evalue": "ignored",
          "traceback": [
            "\u001b[0;31m---------------------------------------------------------------------------\u001b[0m",
            "\u001b[0;31mNameError\u001b[0m                                 Traceback (most recent call last)",
            "\u001b[0;32m<ipython-input-9-92a0fe58ac57>\u001b[0m in \u001b[0;36m<module>\u001b[0;34m\u001b[0m\n\u001b[1;32m     35\u001b[0m \u001b[0mprint\u001b[0m\u001b[0;34m(\u001b[0m\u001b[0;34m\"----------------------------------------------------------------------\"\u001b[0m\u001b[0;34m)\u001b[0m\u001b[0;34m\u001b[0m\u001b[0;34m\u001b[0m\u001b[0m\n\u001b[1;32m     36\u001b[0m \u001b[0mprint\u001b[0m\u001b[0;34m(\u001b[0m\u001b[0;34m\"Elementos en posiciones impares\"\u001b[0m\u001b[0;34m)\u001b[0m\u001b[0;34m\u001b[0m\u001b[0;34m\u001b[0m\u001b[0m\n\u001b[0;32m---> 37\u001b[0;31m \u001b[0mrint\u001b[0m\u001b[0;34m(\u001b[0m\u001b[0mlista\u001b[0m\u001b[0;34m[\u001b[0m\u001b[0;36m1\u001b[0m\u001b[0;34m:\u001b[0m\u001b[0;34m:\u001b[0m\u001b[0;36m2\u001b[0m\u001b[0;34m]\u001b[0m\u001b[0;34m)\u001b[0m\u001b[0;34m\u001b[0m\u001b[0;34m\u001b[0m\u001b[0m\n\u001b[0m\u001b[1;32m     38\u001b[0m \u001b[0;34m\u001b[0m\u001b[0m\n\u001b[1;32m     39\u001b[0m \u001b[0;34m\u001b[0m\u001b[0m\n",
            "\u001b[0;31mNameError\u001b[0m: name 'rint' is not defined"
          ]
        }
      ]
    },
    {
      "cell_type": "markdown",
      "source": [
        "<img src=\"https://user-images.githubusercontent.com/7065401/52071927-c1cd7100-2562-11e9-908a-dde91ba14e59.png\" width = 600>\n",
        "\n",
        "### Modificando una lista\n",
        "\n",
        "<img src=\"https://user-images.githubusercontent.com/7065401/52071927-c1cd7100-2562-11e9-908a-dde91ba14e59.png\" width = 600>"
      ],
      "metadata": {
        "id": "cJ3R78SwXGqn"
      }
    },
    {
      "cell_type": "code",
      "source": [
        "lista = list(range(20))\n",
        "\n",
        "print(\"-----------------------------------------------------------------------\")\n",
        "print(\"Original\")\n",
        "print(lista)\n",
        "\n",
        "# Modificar el ultimo valor por 100\n",
        "print(\"-----------------------------------------------------------------------\")\n",
        "lista[-1] = 100\n",
        "print(\"Modificada\")\n",
        "print(lista)"
      ],
      "metadata": {
        "id": "nmeFLv93XJoh",
        "colab": {
          "base_uri": "https://localhost:8080/"
        },
        "outputId": "3d3a026f-c6ed-445b-ccf4-fcbf0f3b4666"
      },
      "execution_count": null,
      "outputs": [
        {
          "output_type": "stream",
          "name": "stdout",
          "text": [
            "-----------------------------------------------------------------------\n",
            "Original\n",
            "[0, 1, 2, 3, 4, 5, 6, 7, 8, 9, 10, 11, 12, 13, 14, 15, 16, 17, 18, 19]\n",
            "-----------------------------------------------------------------------\n",
            "Modificada\n",
            "[0, 1, 2, 3, 4, 5, 6, 7, 8, 9, 10, 11, 12, 13, 14, 15, 16, 17, 18, 100]\n"
          ]
        }
      ]
    },
    {
      "cell_type": "code",
      "source": [
        "# Modificar la lista desde el indice 3 hasta el 6, por todos 99\n",
        "\n",
        "lista[3:7] = [99, 99, 99, 99]\n",
        "print(lista)\n",
        "print(\"Longitud \",len(lista))\n",
        "\n",
        "# CUIDADO!! PUEDEN ELIMINAR SIN QUERER ELEMENTOS DE LA LISTA\n",
        "print(\"-----------------------------------------------------------------------\")\n",
        "lista[7:11] = [1, 2]\n",
        "print(lista)\n",
        "print(\"Longitud \",len(lista))"
      ],
      "metadata": {
        "id": "kH-wo5bEXsPJ",
        "colab": {
          "base_uri": "https://localhost:8080/"
        },
        "outputId": "d843fc61-eb3c-464c-eccb-e8acc0b77999"
      },
      "execution_count": null,
      "outputs": [
        {
          "output_type": "stream",
          "name": "stdout",
          "text": [
            "[0, 1, 2, 99, 99, 99, 99, 7, 8, 9, 10, 11, 12, 13, 14, 15, 16, 17, 18, 100]\n",
            "Longitud  20\n",
            "-----------------------------------------------------------------------\n",
            "[0, 1, 2, 99, 99, 99, 99, 1, 2, 11, 12, 13, 14, 15, 16, 17, 18, 100]\n",
            "Longitud  18\n"
          ]
        }
      ]
    },
    {
      "cell_type": "markdown",
      "source": [
        "<img src=\"https://user-images.githubusercontent.com/7065401/52071927-c1cd7100-2562-11e9-908a-dde91ba14e59.png\" width = 600>\n",
        "\n",
        "## Agregando y quitando valores de una lista. Métodos pop() y append()\n",
        "\n",
        "<img src=\"https://user-images.githubusercontent.com/7065401/52071927-c1cd7100-2562-11e9-908a-dde91ba14e59.png\" width = 600>"
      ],
      "metadata": {
        "id": "JNW9DspmCvQg"
      }
    },
    {
      "cell_type": "code",
      "source": [
        "# Creamos una lista vacia\n",
        "lista = []\n",
        "\n",
        "# Agregamos un nombre por vez\n",
        "lista.append(\"Jake\")\n",
        "lista.append(\"Finn\")\n",
        "lista.append(\"Grumosa\")\n",
        "lista.append(\"Marceline\")\n",
        "lista.append(\"Tronquitos\")\n",
        "\n",
        "print(lista)"
      ],
      "metadata": {
        "id": "cJWtDSJnC4vY",
        "colab": {
          "base_uri": "https://localhost:8080/"
        },
        "outputId": "e17d0847-8df5-4570-f15c-a54bf7800bad"
      },
      "execution_count": null,
      "outputs": [
        {
          "output_type": "stream",
          "name": "stdout",
          "text": [
            "['Jake', 'Finn', 'Grumosa', 'Marceline', 'Tronquitos']\n"
          ]
        }
      ]
    },
    {
      "cell_type": "code",
      "source": [
        "# Quitamos elementos de la lista\n",
        "\n",
        "eliminado = lista.pop()\n",
        "\n",
        "print(\"eliminado = \", eliminado)\n",
        "print(lista)"
      ],
      "metadata": {
        "id": "7RjbGRZTDZZJ",
        "colab": {
          "base_uri": "https://localhost:8080/"
        },
        "outputId": "64f66182-4c26-4d41-a7c4-034beaefb18d"
      },
      "execution_count": null,
      "outputs": [
        {
          "output_type": "stream",
          "name": "stdout",
          "text": [
            "eliminado =  Tronquitos\n",
            "['Jake', 'Finn', 'Grumosa', 'Marceline']\n"
          ]
        }
      ]
    },
    {
      "cell_type": "code",
      "source": [
        "# Con pop tambien podemos sacar elementos de cualquier posicion\n",
        "\n",
        "eliminado = lista.pop(0)\n",
        "\n",
        "print(\"eliminado = \", eliminado)\n",
        "print(lista)"
      ],
      "metadata": {
        "id": "n1mslDyODtn6"
      },
      "execution_count": null,
      "outputs": []
    },
    {
      "cell_type": "markdown",
      "source": [
        "<img src=\"https://user-images.githubusercontent.com/7065401/52071927-c1cd7100-2562-11e9-908a-dde91ba14e59.png\" width = 600>\n",
        "\n",
        "## Combinando dos listas. Método extend\n",
        "\n",
        "<img src=\"https://user-images.githubusercontent.com/7065401/52071927-c1cd7100-2562-11e9-908a-dde91ba14e59.png\" width = 600>"
      ],
      "metadata": {
        "id": "oK3wtlmNEITo"
      }
    },
    {
      "cell_type": "code",
      "source": [
        "lista1 = list(range(6))\n",
        "lista2 = list(range(15,20))\n",
        "\n",
        "print(\"lista1 = \", lista1)\n",
        "print(\"lista2 = \", lista2)\n",
        "print(\"-----------------------------------------------------------------------\")\n",
        "lista1.extend(lista2)\n",
        "lista3 = lista1.copy()\n",
        "lista3.append(lista2)\n",
        "print(\"lista1 extendida = \", lista1)\n",
        "print(\"lista1 extendida = \", lista3)"
      ],
      "metadata": {
        "id": "ONIZmSL3EQTB",
        "colab": {
          "base_uri": "https://localhost:8080/"
        },
        "outputId": "738ab40e-190a-43f0-880a-8a3a41a23a32"
      },
      "execution_count": null,
      "outputs": [
        {
          "output_type": "stream",
          "name": "stdout",
          "text": [
            "lista1 =  [0, 1, 2, 3, 4, 5]\n",
            "lista2 =  [15, 16, 17, 18, 19]\n",
            "-----------------------------------------------------------------------\n",
            "lista1 extendida =  [0, 1, 2, 3, 4, 5, 15, 16, 17, 18, 19]\n",
            "lista1 extendida =  [0, 1, 2, 3, 4, 5, 15, 16, 17, 18, 19, [15, 16, 17, 18, 19]]\n"
          ]
        }
      ]
    },
    {
      "cell_type": "markdown",
      "source": [
        "<img src=\"https://user-images.githubusercontent.com/7065401/52071927-c1cd7100-2562-11e9-908a-dde91ba14e59.png\" width = 600>\n",
        "\n",
        "## Cuidado con las referencias\n",
        "\n",
        "<img src=\"https://user-images.githubusercontent.com/7065401/52071927-c1cd7100-2562-11e9-908a-dde91ba14e59.png\" width = 600>\n",
        "\n"
      ],
      "metadata": {
        "id": "splBLYL0Ye2x"
      }
    },
    {
      "cell_type": "code",
      "source": [
        "lista = list(range(5))\n",
        "\n",
        "lista2 = lista\n",
        "\n",
        "\n",
        "print(\"-----------------------------------------------------------------------\")\n",
        "print(\"Antes \")\n",
        "print(\"lista = \", lista)\n",
        "print(\"lista2 = \", lista2)\n",
        "print(\"-----------------------------------------------------------------------\")\n",
        "\n",
        "\n",
        "lista[0] = 1144\n",
        "\n",
        "\n",
        "print(\"Despues \")\n",
        "print(\"lista = \", lista)\n",
        "print(\"lista2 = \", lista2)\n",
        "print(\"-----------------------------------------------------------------------\")"
      ],
      "metadata": {
        "id": "SdI6F60DYjuf"
      },
      "execution_count": null,
      "outputs": []
    },
    {
      "cell_type": "code",
      "source": [
        "lista = list(range(5))\n",
        "\n",
        "lista2 = lista          # Referencia\n",
        "lista3 = lista.copy()   # Copia\n",
        "lista4 = lista[:]\n",
        "\n",
        "print(\"-----------------------------------------------------------------------\")\n",
        "print(\"Antes\")\n",
        "print(\"Lista = \", lista)\n",
        "print(\"Lista2 = \", lista2)\n",
        "print(\"Lista3 = \", lista3)\n",
        "print(\"Lista4 = \", lista4)\n",
        "\n",
        "# Modificamos lista\n",
        "lista[0] = 55\n",
        "\n",
        "\n",
        "print(\"-----------------------------------------------------------------------\")\n",
        "print(\"Despues\")\n",
        "print(\"Lista = \", lista)\n",
        "print(\"Lista2 = \", lista2)\n",
        "print(\"Lista3 = \", lista3)\n",
        "print(\"Lista4 = \", lista4)\n"
      ],
      "metadata": {
        "id": "NWRrDZApdznQ",
        "colab": {
          "base_uri": "https://localhost:8080/"
        },
        "outputId": "7c1d8a5a-ba62-48fd-bffc-4eeaa1e6449f"
      },
      "execution_count": null,
      "outputs": [
        {
          "output_type": "stream",
          "name": "stdout",
          "text": [
            "-----------------------------------------------------------------------\n",
            "Antes\n",
            "Lista =  [0, 1, 2, 3, 4]\n",
            "Lista2 =  [0, 1, 2, 3, 4]\n",
            "Lista3 =  [0, 1, 2, 3, 4]\n",
            "Lista4 =  [0, 1, 2, 3, 4]\n",
            "-----------------------------------------------------------------------\n",
            "Despues\n",
            "Lista =  [55, 1, 2, 3, 4]\n",
            "Lista2 =  [55, 1, 2, 3, 4]\n",
            "Lista3 =  [0, 1, 2, 3, 4]\n",
            "Lista4 =  [0, 1, 2, 3, 4]\n"
          ]
        }
      ]
    },
    {
      "cell_type": "markdown",
      "source": [
        "<img src=\"https://user-images.githubusercontent.com/7065401/52071927-c1cd7100-2562-11e9-908a-dde91ba14e59.png\" width = 600>\n",
        "\n",
        "### Pero....\n",
        "\n",
        "No es una copia tan profunda como nos gustaría\n",
        "\n",
        "<img src=\"https://user-images.githubusercontent.com/7065401/52071927-c1cd7100-2562-11e9-908a-dde91ba14e59.png\" width = 600>"
      ],
      "metadata": {
        "id": "ViyrnmBYfHZT"
      }
    },
    {
      "cell_type": "code",
      "source": [
        "lista = [[1,2,3],[4,5,6]]\n",
        "\n",
        "lista2 = lista          # Referencia\n",
        "lista3 = lista.copy()   # Copia\n",
        "lista4 = lista[:]\n",
        "\n",
        "\n",
        "print(\"-----------------------------------------------------------------------\")\n",
        "print(\"Antes\")\n",
        "print(\"Lista = \", lista)\n",
        "print(\"Lista2 = \", lista2)\n",
        "print(\"Lista3 = \", lista3)\n",
        "print(\"Lista4 = \", lista4)\n",
        "\n",
        "\n",
        "# Dentro de la lista principal, hay referencias a listas\n",
        "lista[0][0] = 55\n",
        "\n",
        "lista[1][0] = 88\n",
        "\n",
        "print(\"-----------------------------------------------------------------------\")\n",
        "print(\"Despues\")\n",
        "print(\"Lista = \", lista)\n",
        "print(\"Lista2 = \", lista2)\n",
        "print(\"Lista3 = \", lista3)\n",
        "print(\"Lista4 = \", lista4)\n",
        "\n",
        "# Pero, si por alguna razon modificamos alguna de las listas internas\n",
        "#  generando una nueva inner lista ... el comportamiento no es tan obvio\n",
        "lista[0]= [100,100,100]\n",
        "\n",
        "print(\"-----------------------------------------------------------------------\")\n",
        "print(\"Despues\")\n",
        "print(\"Lista = \", lista)\n",
        "print(\"Lista2 = \", lista2)\n",
        "print(\"Lista3 = \", lista3)\n",
        "print(\"Lista4 = \", lista4)"
      ],
      "metadata": {
        "id": "xP7NChoqe0g9"
      },
      "execution_count": null,
      "outputs": []
    },
    {
      "cell_type": "code",
      "source": [
        "import copy\n",
        "\n",
        "lista = [[1,2,3],[4,5,6]]\n",
        "\n",
        "lista2 = lista          # Referencia\n",
        "lista3 = copy.deepcopy(lista)   # Copia\n",
        "lista4 = lista[:]\n",
        "\n",
        "\n",
        "print(\"-----------------------------------------------------------------------\")\n",
        "print(\"Antes\")\n",
        "print(\"Lista = \", lista)\n",
        "print(\"Lista2 = \", lista2)\n",
        "print(\"Lista3 = \", lista3)\n",
        "print(\"Lista4 = \", lista4)\n",
        "\n",
        "\n",
        "# Dentro de la lista principal, hay referencias a listas\n",
        "lista[0][0] = 55\n",
        "\n",
        "lista[1][0] = 88\n",
        "\n",
        "print(\"-----------------------------------------------------------------------\")\n",
        "print(\"Despues\")\n",
        "print(\"Lista = \", lista)\n",
        "print(\"Lista2 = \", lista2)\n",
        "print(\"Lista3 = \", lista3)\n",
        "print(\"Lista4 = \", lista4)\n",
        "\n",
        "# Pero, si por alguna razon modificamos alguna de las listas internas\n",
        "#  generando una nueva inner lista ... el comportamiento no es tan obvio\n",
        "lista[0]= [100,100,100]\n",
        "\n",
        "print(\"-----------------------------------------------------------------------\")\n",
        "print(\"Despues\")\n",
        "print(\"Lista = \", lista)\n",
        "print(\"Lista2 = \", lista2)\n",
        "print(\"Lista3 = \", lista3)\n",
        "print(\"Lista4 = \", lista4)"
      ],
      "metadata": {
        "id": "9MD4SjcAgU_a"
      },
      "execution_count": null,
      "outputs": []
    },
    {
      "cell_type": "markdown",
      "source": [
        "<img src=\"https://user-images.githubusercontent.com/7065401/52071927-c1cd7100-2562-11e9-908a-dde91ba14e59.png\" width = 600>\n",
        "\n",
        "## Tuplas\n",
        "\n",
        "<img src=\"https://user-images.githubusercontent.com/7065401/52071927-c1cd7100-2562-11e9-908a-dde91ba14e59.png\" width = 600>\n",
        "\n",
        "### Son bastante similares a las listas, pero inmutables.\n",
        "\n",
        "<img src=\"https://user-images.githubusercontent.com/7065401/52071927-c1cd7100-2562-11e9-908a-dde91ba14e59.png\" width = 600>"
      ],
      "metadata": {
        "id": "rwHV4dqjguKd"
      }
    },
    {
      "cell_type": "code",
      "source": [
        "my_tuple = (1, 2, 3, 4, 5, 6)\n",
        "\n",
        "print(my_tuple)\n",
        "\n",
        "print(my_tuple[0])\n",
        "print(my_tuple[-1])\n",
        "print(my_tuple[:3])"
      ],
      "metadata": {
        "id": "cS7RDhBKg0Sy",
        "colab": {
          "base_uri": "https://localhost:8080/"
        },
        "outputId": "2044911c-603c-4832-d8d0-9cdf444b7135"
      },
      "execution_count": null,
      "outputs": [
        {
          "output_type": "stream",
          "name": "stdout",
          "text": [
            "(1, 2, 3, 4, 5, 6)\n",
            "1\n",
            "6\n",
            "(1, 2, 3)\n"
          ]
        }
      ]
    },
    {
      "cell_type": "code",
      "source": [
        "my_tuple[1] = 88"
      ],
      "metadata": {
        "id": "fqz53BRNhFuK",
        "colab": {
          "base_uri": "https://localhost:8080/",
          "height": 169
        },
        "outputId": "b8bd83ce-7c25-4d03-eb40-41b92178dd9d"
      },
      "execution_count": null,
      "outputs": [
        {
          "output_type": "error",
          "ename": "TypeError",
          "evalue": "ignored",
          "traceback": [
            "\u001b[0;31m---------------------------------------------------------------------------\u001b[0m",
            "\u001b[0;31mTypeError\u001b[0m                                 Traceback (most recent call last)",
            "\u001b[0;32m<ipython-input-14-e6e333114958>\u001b[0m in \u001b[0;36m<module>\u001b[0;34m\u001b[0m\n\u001b[0;32m----> 1\u001b[0;31m \u001b[0mmy_tuple\u001b[0m\u001b[0;34m[\u001b[0m\u001b[0;36m1\u001b[0m\u001b[0;34m]\u001b[0m \u001b[0;34m=\u001b[0m \u001b[0;36m88\u001b[0m\u001b[0;34m\u001b[0m\u001b[0;34m\u001b[0m\u001b[0m\n\u001b[0m",
            "\u001b[0;31mTypeError\u001b[0m: 'tuple' object does not support item assignment"
          ]
        }
      ]
    },
    {
      "cell_type": "markdown",
      "source": [
        "<img src=\"https://user-images.githubusercontent.com/7065401/52071927-c1cd7100-2562-11e9-908a-dde91ba14e59.png\" width = 600>\n",
        "\n",
        "## Ej. de uso de las tuplas : Intercambiar los valores entre las variables a y b\n",
        "\n",
        "<img src=\"https://user-images.githubusercontent.com/7065401/52071927-c1cd7100-2562-11e9-908a-dde91ba14e59.png\" width = 600>"
      ],
      "metadata": {
        "id": "f_uax47YhKAV"
      }
    },
    {
      "cell_type": "code",
      "source": [
        "a = 25\n",
        "b = 18\n",
        "\n",
        "a,b = b, a\n",
        "print(a)\n",
        "print(b)"
      ],
      "metadata": {
        "colab": {
          "base_uri": "https://localhost:8080/"
        },
        "id": "115vaI4CinYP",
        "outputId": "41afae99-4a90-43ec-999d-aa0658e8a0b7"
      },
      "execution_count": null,
      "outputs": [
        {
          "output_type": "stream",
          "name": "stdout",
          "text": [
            "18\n",
            "25\n"
          ]
        }
      ]
    },
    {
      "cell_type": "code",
      "source": [
        "a = 15\n",
        "b = 21\n",
        "\n",
        "print(f\"Antes   a = {a}   b = {b}\")\n",
        "\n",
        "a, b = b, a\n",
        "\n",
        "print(f\"Despues   a = {a}   b = {b}\")"
      ],
      "metadata": {
        "id": "7rtMY6HVhSCc",
        "colab": {
          "base_uri": "https://localhost:8080/"
        },
        "outputId": "a1935ee7-ff84-429c-f522-a19bcb994bd0"
      },
      "execution_count": null,
      "outputs": [
        {
          "output_type": "stream",
          "name": "stdout",
          "text": [
            "Antes   a = 15   b = 21\n",
            "Despues   a = 21   b = 15\n"
          ]
        }
      ]
    },
    {
      "cell_type": "markdown",
      "source": [
        "<img src=\"https://user-images.githubusercontent.com/7065401/52071927-c1cd7100-2562-11e9-908a-dde91ba14e59.png\" width = 600>\n",
        "\n",
        "## Sets\n",
        "\n",
        "<img src=\"https://user-images.githubusercontent.com/7065401/52071927-c1cd7100-2562-11e9-908a-dde91ba14e59.png\" width = 600>"
      ],
      "metadata": {
        "id": "eH0VhER0hmQP"
      }
    },
    {
      "cell_type": "code",
      "source": [
        "my_set = {1,2,3,3,3,4,1,1,1}\n",
        "\n",
        "print(my_set)\n",
        "\n"
      ],
      "metadata": {
        "id": "GI0wsVGIhoj_"
      },
      "execution_count": null,
      "outputs": []
    },
    {
      "cell_type": "code",
      "source": [
        "# Los sets no se pueden indexar\n",
        "\n",
        "my_set[0]"
      ],
      "metadata": {
        "id": "LtX_A_m9hsIs"
      },
      "execution_count": null,
      "outputs": []
    },
    {
      "cell_type": "markdown",
      "source": [
        "<img src=\"https://user-images.githubusercontent.com/7065401/52071927-c1cd7100-2562-11e9-908a-dde91ba14e59.png\" width = 600>\n",
        "\n",
        "## Diccionarios\n",
        "\n",
        "* Conjunto de pares clave, valor\n",
        "* Separados por coma\n",
        "* Clave separada por : del valor --> clave: valor\n",
        "* Encerrados entre llaves\n",
        "\n",
        "<img src=\"https://user-images.githubusercontent.com/7065401/52071927-c1cd7100-2562-11e9-908a-dde91ba14e59.png\" width = 600>"
      ],
      "metadata": {
        "id": "KXIzgcK3h2ri"
      }
    },
    {
      "cell_type": "code",
      "source": [
        "my_dict = {\n",
        "    \"nombre\":\"Naruto\",\n",
        "    \"apellido\":\"Uzumaki\",\n",
        "    \"edad\": 16\n",
        "}\n",
        "\n",
        "print(my_dict)"
      ],
      "metadata": {
        "id": "D2DYw-LliFiv",
        "colab": {
          "base_uri": "https://localhost:8080/"
        },
        "outputId": "76f64c1a-a5ed-452d-9814-c67a98961090"
      },
      "execution_count": null,
      "outputs": [
        {
          "output_type": "stream",
          "name": "stdout",
          "text": [
            "{'nombre': 'Naruto', 'apellido': 'Uzumaki', 'edad': 16}\n"
          ]
        }
      ]
    },
    {
      "cell_type": "markdown",
      "source": [
        "<img src=\"https://user-images.githubusercontent.com/7065401/52071927-c1cd7100-2562-11e9-908a-dde91ba14e59.png\" width = 600>\n",
        "\n",
        "### Mostrar las claves\n",
        "\n",
        "<img src=\"https://user-images.githubusercontent.com/7065401/52071927-c1cd7100-2562-11e9-908a-dde91ba14e59.png\" width = 600>"
      ],
      "metadata": {
        "id": "sVbws0oqiWQw"
      }
    },
    {
      "cell_type": "code",
      "source": [
        "my_dict.keys()"
      ],
      "metadata": {
        "id": "CKJmoWgUiZcL",
        "colab": {
          "base_uri": "https://localhost:8080/"
        },
        "outputId": "db16e691-ac7a-4dfb-ee2d-f39b069c0320"
      },
      "execution_count": null,
      "outputs": [
        {
          "output_type": "execute_result",
          "data": {
            "text/plain": [
              "dict_keys(['nombre', 'apellido', 'edad'])"
            ]
          },
          "metadata": {},
          "execution_count": 17
        }
      ]
    },
    {
      "cell_type": "markdown",
      "source": [
        "<img src=\"https://user-images.githubusercontent.com/7065401/52071927-c1cd7100-2562-11e9-908a-dde91ba14e59.png\" width = 600>\n",
        "\n",
        "### Mostrar los valores\n",
        "\n",
        "<img src=\"https://user-images.githubusercontent.com/7065401/52071927-c1cd7100-2562-11e9-908a-dde91ba14e59.png\" width = 600>"
      ],
      "metadata": {
        "id": "u-T-7r_8ihUa"
      }
    },
    {
      "cell_type": "code",
      "source": [
        "my_dict.values()"
      ],
      "metadata": {
        "id": "sOGX_hrciko2",
        "colab": {
          "base_uri": "https://localhost:8080/"
        },
        "outputId": "9a520da2-5c02-4df3-acab-60c5b4a49dfa"
      },
      "execution_count": null,
      "outputs": [
        {
          "output_type": "execute_result",
          "data": {
            "text/plain": [
              "dict_values(['Naruto', 'Uzumaki', 16])"
            ]
          },
          "metadata": {},
          "execution_count": 18
        }
      ]
    },
    {
      "cell_type": "markdown",
      "source": [
        "<img src=\"https://user-images.githubusercontent.com/7065401/52071927-c1cd7100-2562-11e9-908a-dde91ba14e59.png\" width = 600>\n",
        "\n",
        "### Mostar tuplas key, value\n",
        "\n",
        "<img src=\"https://user-images.githubusercontent.com/7065401/52071927-c1cd7100-2562-11e9-908a-dde91ba14e59.png\" width = 600>\n",
        "\n"
      ],
      "metadata": {
        "id": "fkqXcjVAinsT"
      }
    },
    {
      "cell_type": "code",
      "source": [
        "my_dict.items()"
      ],
      "metadata": {
        "id": "Yt_QZfnwiwK7",
        "colab": {
          "base_uri": "https://localhost:8080/"
        },
        "outputId": "2dfc18cc-fc32-4e2e-c485-2479e43b3fa1"
      },
      "execution_count": null,
      "outputs": [
        {
          "output_type": "execute_result",
          "data": {
            "text/plain": [
              "dict_items([('nombre', 'Naruto'), ('apellido', 'Uzumaki'), ('edad', 16)])"
            ]
          },
          "metadata": {},
          "execution_count": 19
        }
      ]
    },
    {
      "cell_type": "markdown",
      "source": [
        "<img src=\"https://user-images.githubusercontent.com/7065401/52071927-c1cd7100-2562-11e9-908a-dde91ba14e59.png\" width = 600>\n",
        "\n",
        "### Acceder a un elemento por clave\n",
        "\n",
        "<img src=\"https://user-images.githubusercontent.com/7065401/52071927-c1cd7100-2562-11e9-908a-dde91ba14e59.png\" width = 600>"
      ],
      "metadata": {
        "id": "bxEzzioYizO_"
      }
    },
    {
      "cell_type": "code",
      "source": [
        "my_dict[\"nombre\"]"
      ],
      "metadata": {
        "id": "4wSUvuSRi293"
      },
      "execution_count": null,
      "outputs": []
    },
    {
      "cell_type": "code",
      "source": [
        "my_dict[\"edad\"]"
      ],
      "metadata": {
        "id": "Ri5Wqoq9i59v"
      },
      "execution_count": null,
      "outputs": []
    },
    {
      "cell_type": "markdown",
      "source": [
        "<img src=\"https://user-images.githubusercontent.com/7065401/52071927-c1cd7100-2562-11e9-908a-dde91ba14e59.png\" width = 600>\n",
        "\n",
        "### Modificar el valor asociado a una clave\n",
        "\n",
        "<img src=\"https://user-images.githubusercontent.com/7065401/52071927-c1cd7100-2562-11e9-908a-dde91ba14e59.png\" width = 600>\n",
        "\n"
      ],
      "metadata": {
        "id": "T2rKi3w0jAcS"
      }
    },
    {
      "cell_type": "code",
      "source": [
        "my_dict[\"apellido\"] = \"Uzumaki Hyuga\"\n",
        "\n",
        "print(my_dict)"
      ],
      "metadata": {
        "id": "tilyBirLjNnn"
      },
      "execution_count": null,
      "outputs": []
    },
    {
      "cell_type": "markdown",
      "source": [
        "<img src=\"https://user-images.githubusercontent.com/7065401/52071927-c1cd7100-2562-11e9-908a-dde91ba14e59.png\" width = 600> \n",
        "\n",
        "### Agregar un nuevo par\n",
        "\n",
        "<img src=\"https://user-images.githubusercontent.com/7065401/52071927-c1cd7100-2562-11e9-908a-dde91ba14e59.png\" width = 600>\n"
      ],
      "metadata": {
        "id": "HhtSIBTujS2d"
      }
    },
    {
      "cell_type": "code",
      "source": [
        "my_dict[\"aldea\"] = \"Konoha\"\n",
        "\n",
        "print(my_dict)"
      ],
      "metadata": {
        "id": "ZFKK6mLDjfHJ"
      },
      "execution_count": null,
      "outputs": []
    },
    {
      "cell_type": "markdown",
      "source": [
        "<img src=\"https://user-images.githubusercontent.com/7065401/52071927-c1cd7100-2562-11e9-908a-dde91ba14e59.png\" width = 600>\n",
        "\n",
        "## Eliminar una clave\n",
        "\n",
        "<img src=\"https://user-images.githubusercontent.com/7065401/52071927-c1cd7100-2562-11e9-908a-dde91ba14e59.png\" width = 600>"
      ],
      "metadata": {
        "id": "h_BjAZc-juCT"
      }
    },
    {
      "cell_type": "code",
      "source": [
        "eliminado = my_dict.pop(\"nombre\", None)\n",
        "eliminado2 = my_dict.pop(\"amigo\", None)\n",
        "\n",
        "print(eliminado)\n",
        "print(eliminado2)\n",
        "\n",
        "print(my_dict)"
      ],
      "metadata": {
        "id": "HYfeBESpjxJ1"
      },
      "execution_count": null,
      "outputs": []
    },
    {
      "cell_type": "code",
      "source": [
        "del my_dict[\"edad\"]\n",
        "\n",
        "print(my_dict)"
      ],
      "metadata": {
        "id": "t7IGipY3kHkt"
      },
      "execution_count": null,
      "outputs": []
    },
    {
      "cell_type": "markdown",
      "source": [
        "<img src=\"https://user-images.githubusercontent.com/7065401/52071927-c1cd7100-2562-11e9-908a-dde91ba14e59.png\" width = 600>\n",
        "\n",
        "# Control de Flujo\n",
        "\n",
        "* If, elif, else\n",
        "* While\n",
        "* For\n",
        "\n",
        "<img src=\"https://user-images.githubusercontent.com/7065401/52071927-c1cd7100-2562-11e9-908a-dde91ba14e59.png\" width = 600>\n",
        "\n",
        "\n",
        "## 1. IF \n",
        "\n",
        "Dado que en python no se utilizan las llaves {}...como podemos saber que código forma parte del bloque del if? \n",
        "\n",
        "Todo el código que está en el mismo nivel de indentación, forma parte del mismo bloque:\n",
        "\n",
        "``` \n",
        "if condicion:\n",
        "    sentencia1\n",
        "    sentencia2\n",
        "    sentencia3\n",
        "\n",
        "sentencia4\n",
        "```\n",
        "\n",
        "Las sentencias 1, 2 y 3 forman parte del bloque del IF y sólo se ejecutarán si la condición se evalúa verdadera.\n",
        "\n",
        "La sentencia 4 se ejecuta siempre dado que está fuera del bloque del IF\n",
        "\n",
        "\n",
        "<img src=\"https://user-images.githubusercontent.com/7065401/52071927-c1cd7100-2562-11e9-908a-dde91ba14e59.png\" width = 600>"
      ],
      "metadata": {
        "id": "ruGcZTF2kQW9"
      }
    },
    {
      "cell_type": "code",
      "source": [
        "mostrar_info = 1\n",
        "\n",
        "if mostrar_info==1:\n",
        "    print(\"Bloque 1 - parte 1\")\n",
        "    print(\"Bloque 1 - parte 2\")\n",
        "print(\"Bloque externo- me ejecuto siempre\")"
      ],
      "metadata": {
        "id": "0TR9LIRH46cn",
        "colab": {
          "base_uri": "https://localhost:8080/"
        },
        "outputId": "c00126e4-56ea-4281-838c-8741c3208850"
      },
      "execution_count": null,
      "outputs": [
        {
          "output_type": "stream",
          "name": "stdout",
          "text": [
            "Bloque externo- me ejecuto siempre\n"
          ]
        }
      ]
    },
    {
      "cell_type": "code",
      "source": [
        "mostrar_bloque = 99\n",
        "\n",
        "if mostrar_bloque==1:\n",
        "    print(\"Bloque 1 - parte 1\")\n",
        "    print(\"Bloque 1 - parte 2\")\n",
        "else:\n",
        "    print(\"Bloque 2 - parte 1\")\n",
        "    print(\"Bloque 2 - parte 2\")\n",
        "print(\"Bloque externo- me ejecuto siempre\")\n"
      ],
      "metadata": {
        "id": "XS2ym2lp5OwP",
        "colab": {
          "base_uri": "https://localhost:8080/"
        },
        "outputId": "a3981363-4c93-470f-bf2b-c3b937a0ff9f"
      },
      "execution_count": null,
      "outputs": [
        {
          "output_type": "stream",
          "name": "stdout",
          "text": [
            "Bloque 2 - parte 1\n",
            "Bloque 2 - parte 2\n",
            "Bloque externo- me ejecuto siempre\n"
          ]
        }
      ]
    },
    {
      "cell_type": "code",
      "source": [
        "opcion = 13\n",
        "\n",
        "if opcion == 1:\n",
        "    print(\"Bloque 1 - Parte 1\")\n",
        "    print(\"Bloque 1 - Parte 2\")\n",
        "    print(\"Bloque 1 - Parte 3\")\n",
        "\n",
        "elif opcion == 2:\n",
        "    print(\"Bloque 2 - Parte 1\")\n",
        "    print(\"Bloque 2 - Parte 2\")\n",
        "    print(\"Bloque 2 - Parte 3\")\n",
        "\n",
        "elif opcion == 3:\n",
        "    print(\"Bloque 3 - Parte 1\")\n",
        "    print(\"Bloque 3 - Parte 2\")\n",
        "    print(\"Bloque 3 - Parte 3\")\n",
        "else:\n",
        "    print(\"Bloque default - Parte 1\")\n",
        "    print(\"Bloque default - Parte 2\")\n",
        "    print(\"Bloque default - Parte 3\")\n",
        "\n",
        "print(\"Fuera del bloque de if\")"
      ],
      "metadata": {
        "id": "7nfpNxYa5zWx",
        "colab": {
          "base_uri": "https://localhost:8080/"
        },
        "outputId": "99edd81d-9e0a-4881-f720-a58949988df4"
      },
      "execution_count": null,
      "outputs": [
        {
          "output_type": "stream",
          "name": "stdout",
          "text": [
            "Bloque default - Parte 1\n",
            "Bloque default - Parte 2\n",
            "Bloque default - Parte 3\n",
            "Fuera del bloque de if\n"
          ]
        }
      ]
    },
    {
      "cell_type": "code",
      "source": [
        "dia_lindo = False\n",
        "dinero = False\n",
        "\n",
        "if dia_lindo and dinero:\n",
        "    print(\"Dia para salir a pasear al camping\")\n",
        "    \n",
        "elif dia_lindo and not dinero:\n",
        "    print(\"Dia lindo para caminar\")\n",
        "elif not dia_lindo and dinero:\n",
        "    print(\"Dia lindo para ir al shopping\")\n",
        "else:\n",
        "    print(\"Dia especial para comer tortafritas\")\n"
      ],
      "metadata": {
        "id": "FKZKpjUD6Tmv",
        "colab": {
          "base_uri": "https://localhost:8080/"
        },
        "outputId": "84d043de-407d-4fcf-bf97-e2778516407b"
      },
      "execution_count": null,
      "outputs": [
        {
          "output_type": "stream",
          "name": "stdout",
          "text": [
            "Dia especial para comer tortafritas\n"
          ]
        }
      ]
    },
    {
      "cell_type": "code",
      "source": [
        "a = 5\n",
        "perro = \"salchicha\"\n",
        "\n",
        "if a==8:\n",
        "    pass\n",
        "elif a==5:\n",
        "    if perro==\"pug\":\n",
        "        print(\"un pug\")\n",
        "    else:\n",
        "        print(perro)"
      ],
      "metadata": {
        "colab": {
          "base_uri": "https://localhost:8080/"
        },
        "id": "M3s_WgtCkpW-",
        "outputId": "198e7dd4-8418-4ea3-f2ac-f902af0caa0d"
      },
      "execution_count": null,
      "outputs": [
        {
          "output_type": "stream",
          "name": "stdout",
          "text": [
            "salchicha\n"
          ]
        }
      ]
    },
    {
      "cell_type": "markdown",
      "source": [
        "\n",
        "<img src=\"https://user-images.githubusercontent.com/7065401/52071927-c1cd7100-2562-11e9-908a-dde91ba14e59.png\" width = 600>\n",
        "\n",
        "## 2. While\n",
        "\n",
        "\n",
        "<img src=\"https://user-images.githubusercontent.com/7065401/52071927-c1cd7100-2562-11e9-908a-dde91ba14e59.png\" width = 600>"
      ],
      "metadata": {
        "id": "p-8TpZZ-7JsA"
      }
    },
    {
      "cell_type": "code",
      "source": [
        "contador = 0\n",
        "\n",
        "while contador < 10:\n",
        "    print(contador)\n",
        "    contador +=1\n"
      ],
      "metadata": {
        "id": "WJnTxOp87VHH",
        "colab": {
          "base_uri": "https://localhost:8080/"
        },
        "outputId": "f535cf6e-010f-4c6f-de67-8cdd3d000b78"
      },
      "execution_count": null,
      "outputs": [
        {
          "output_type": "stream",
          "name": "stdout",
          "text": [
            "0\n",
            "1\n",
            "2\n",
            "3\n",
            "4\n",
            "5\n",
            "6\n",
            "7\n",
            "8\n",
            "9\n"
          ]
        }
      ]
    },
    {
      "cell_type": "code",
      "source": [
        "contador = 10\n",
        "\n",
        "while contador < 10:\n",
        "    print(\"estoy dentro del bucle \" + str(contador))\n",
        "    contador += 1\n",
        "else:\n",
        "    print(\"Salgo del bucle\")\n",
        "\n",
        "print(\"Ya estoy fuera del bucle\")"
      ],
      "metadata": {
        "id": "mbopvYxz7ms3",
        "colab": {
          "base_uri": "https://localhost:8080/"
        },
        "outputId": "aeb45725-ffb1-4a47-8994-2632ecc8ead0"
      },
      "execution_count": null,
      "outputs": [
        {
          "output_type": "stream",
          "name": "stdout",
          "text": [
            "Salgo del bucle\n",
            "Ya estoy fuera del bucle\n"
          ]
        }
      ]
    },
    {
      "cell_type": "markdown",
      "source": [
        "\n",
        "<img src=\"https://user-images.githubusercontent.com/7065401/52071927-c1cd7100-2562-11e9-908a-dde91ba14e59.png\" width = 600>\n",
        "\n",
        "## 3. For\n",
        "\n",
        "Los ciclos for en Python están pensados para iterar sobre las colecciones.\n",
        "\n",
        "<img src=\"https://user-images.githubusercontent.com/7065401/52071927-c1cd7100-2562-11e9-908a-dde91ba14e59.png\" width = 600>\n",
        "\n",
        "## Iterando sobre listas al estilo **C**\n",
        "\n",
        "<img src=\"https://user-images.githubusercontent.com/7065401/52071927-c1cd7100-2562-11e9-908a-dde91ba14e59.png\" width = 600>"
      ],
      "metadata": {
        "id": "gKU_c75p8A5H"
      }
    },
    {
      "cell_type": "code",
      "source": [
        "frutas = [\"manzana\", \"pera\", \"naranja\", \"uva\", \"kiwi\", \"sandía\"]\n",
        "\n",
        "# Podemos iterar al estilo de c (en forma medio forzada)\n",
        "\n",
        "n = len(frutas)  # Longitud de la lista\n",
        "\n",
        "for i in range(n):\n",
        "    print(frutas[i])\n",
        "\n"
      ],
      "metadata": {
        "id": "YTdfFW4u8ZIJ",
        "colab": {
          "base_uri": "https://localhost:8080/"
        },
        "outputId": "9c3ec920-b04d-4cb0-d874-ca78a8728f8e"
      },
      "execution_count": null,
      "outputs": [
        {
          "output_type": "stream",
          "name": "stdout",
          "text": [
            "manzana\n",
            "pera\n",
            "naranja\n",
            "uva\n",
            "kiwi\n",
            "sandía\n"
          ]
        }
      ]
    },
    {
      "cell_type": "code",
      "source": [
        "\n",
        "for i in range(n):\n",
        "    print(i, frutas[i])"
      ],
      "metadata": {
        "id": "iraZQnSt83oH",
        "colab": {
          "base_uri": "https://localhost:8080/"
        },
        "outputId": "4187ddc1-6c26-4e6c-cd6d-ddf8984e3280"
      },
      "execution_count": null,
      "outputs": [
        {
          "output_type": "stream",
          "name": "stdout",
          "text": [
            "0 manzana\n",
            "1 pera\n",
            "2 naranja\n",
            "3 uva\n",
            "4 kiwi\n",
            "5 sandía\n"
          ]
        }
      ]
    },
    {
      "cell_type": "markdown",
      "source": [
        "<img src=\"https://user-images.githubusercontent.com/7065401/52071927-c1cd7100-2562-11e9-908a-dde91ba14e59.png\" width = 600>\n",
        "\n",
        "## Iterando sobre listas al estilo **Python**\n",
        "\n",
        "<img src=\"https://user-images.githubusercontent.com/7065401/52071927-c1cd7100-2562-11e9-908a-dde91ba14e59.png\" width = 600>"
      ],
      "metadata": {
        "id": "moAG2FbC915r"
      }
    },
    {
      "cell_type": "code",
      "source": [
        "# Iteramos al estilo Python\n",
        "\n",
        "for x in frutas:\n",
        "    print(x)"
      ],
      "metadata": {
        "id": "Diptes6C88cu",
        "colab": {
          "base_uri": "https://localhost:8080/"
        },
        "outputId": "27b66c5e-45cc-4d6e-a57f-d6ead90ecd1c"
      },
      "execution_count": null,
      "outputs": [
        {
          "output_type": "stream",
          "name": "stdout",
          "text": [
            "manzana\n",
            "pera\n",
            "naranja\n",
            "uva\n",
            "kiwi\n",
            "sandía\n"
          ]
        }
      ]
    },
    {
      "cell_type": "code",
      "source": [
        " list(enumerate(frutas))"
      ],
      "metadata": {
        "colab": {
          "base_uri": "https://localhost:8080/"
        },
        "id": "eksLRy_7nGE7",
        "outputId": "f86c6697-9b5e-417f-a1b4-efea82acc161"
      },
      "execution_count": null,
      "outputs": [
        {
          "output_type": "execute_result",
          "data": {
            "text/plain": [
              "[(0, 'manzana'),\n",
              " (1, 'pera'),\n",
              " (2, 'naranja'),\n",
              " (3, 'uva'),\n",
              " (4, 'kiwi'),\n",
              " (5, 'sandía')]"
            ]
          },
          "metadata": {},
          "execution_count": 103
        }
      ]
    },
    {
      "cell_type": "code",
      "source": [
        "# Si queremos mostrar le indice:\n",
        "\n",
        "for (idx, fruta) in enumerate(frutas):\n",
        "    print(idx, fruta)"
      ],
      "metadata": {
        "id": "m9BWkSsI9DjQ",
        "colab": {
          "base_uri": "https://localhost:8080/"
        },
        "outputId": "962aa15b-86b9-48b1-d19c-93a3cfd6672c"
      },
      "execution_count": null,
      "outputs": [
        {
          "output_type": "stream",
          "name": "stdout",
          "text": [
            "0 manzana\n",
            "1 pera\n",
            "2 naranja\n",
            "3 uva\n",
            "4 kiwi\n",
            "5 sandía\n"
          ]
        }
      ]
    },
    {
      "cell_type": "code",
      "source": [
        "# Que devuelve el enumerate??\n",
        "\n",
        "enum = enumerate(frutas)\n",
        "print(enum)\n",
        "\n",
        "print(list(enum))  # Si lo transformamos en lista, retorna una lista de tuplas"
      ],
      "metadata": {
        "id": "e8RmqOxW9Oqn"
      },
      "execution_count": null,
      "outputs": []
    },
    {
      "cell_type": "markdown",
      "source": [
        "<img src=\"https://user-images.githubusercontent.com/7065401/52071927-c1cd7100-2562-11e9-908a-dde91ba14e59.png\" width = 600>\n",
        "\n",
        "## Iterando sobre strings\n",
        "\n",
        "<img src=\"https://user-images.githubusercontent.com/7065401/52071927-c1cd7100-2562-11e9-908a-dde91ba14e59.png\" width = 600>"
      ],
      "metadata": {
        "id": "AjrPnozx9Nyf"
      }
    },
    {
      "cell_type": "code",
      "source": [
        "string = \"Murcielago   66\"\n",
        "\n",
        "for x in string:\n",
        "    print(x)"
      ],
      "metadata": {
        "id": "KQjkPHbaE8zo",
        "colab": {
          "base_uri": "https://localhost:8080/"
        },
        "outputId": "8b47ef30-ad0c-43f8-a019-de2b19bb261b"
      },
      "execution_count": null,
      "outputs": [
        {
          "output_type": "stream",
          "name": "stdout",
          "text": [
            "M\n",
            "u\n",
            "r\n",
            "c\n",
            "i\n",
            "e\n",
            "l\n",
            "a\n",
            "g\n",
            "o\n",
            " \n",
            " \n",
            " \n",
            "6\n",
            "6\n"
          ]
        }
      ]
    },
    {
      "cell_type": "markdown",
      "source": [
        "<img src=\"https://user-images.githubusercontent.com/7065401/52071927-c1cd7100-2562-11e9-908a-dde91ba14e59.png\" width = 600>\n",
        "\n",
        "## Iterando sobre diccionarios\n",
        "\n",
        "<img src=\"https://user-images.githubusercontent.com/7065401/52071927-c1cd7100-2562-11e9-908a-dde91ba14e59.png\" width = 600>"
      ],
      "metadata": {
        "id": "QEhRVuV5HcBZ"
      }
    },
    {
      "cell_type": "code",
      "source": [
        "\n",
        "my_dict = {\"nombre\":\"Rem\", \"especie\":\"Semidemonio\", \"color_pelo\":\"azul\"}\n",
        "# Si iteramos directamente, iteramos sobre las claves\n",
        "for x in my_dict:\n",
        "    print(x)\n",
        "\n",
        "print(\"------------------------------------------------------------------------\")\n",
        "for x in my_dict.keys():\n",
        "    print(x)"
      ],
      "metadata": {
        "id": "k2WFZCSNHiAT"
      },
      "execution_count": null,
      "outputs": []
    },
    {
      "cell_type": "code",
      "source": [
        "# Iterando sobre valores\n",
        "\n",
        "for valor in my_dict.values():\n",
        "    print(valor)"
      ],
      "metadata": {
        "id": "5bzmQ5M0IqcQ"
      },
      "execution_count": null,
      "outputs": []
    },
    {
      "cell_type": "code",
      "source": [
        "# Iterando sobre par clave valor\n",
        "\n",
        "for k, v in my_dict.items():\n",
        "    print(k, v)"
      ],
      "metadata": {
        "id": "hxndp8e2Iz3A",
        "colab": {
          "base_uri": "https://localhost:8080/"
        },
        "outputId": "f24100b2-0e7e-48d4-dcbc-c1a7ecd19975"
      },
      "execution_count": null,
      "outputs": [
        {
          "output_type": "stream",
          "name": "stdout",
          "text": [
            "nombre Naruto\n",
            "apellido Uzumaki\n",
            "edad 16\n"
          ]
        }
      ]
    },
    {
      "cell_type": "markdown",
      "source": [
        "<img src=\"https://user-images.githubusercontent.com/7065401/52071927-c1cd7100-2562-11e9-908a-dde91ba14e59.png\" width = 600>\n",
        "\n",
        "## Procesando un string (nivel básico)\n",
        "\n",
        "Dado un string, se quiere saber cuantas letras de cada especie hay.\n",
        "\n",
        "\n",
        "<img src=\"https://user-images.githubusercontent.com/7065401/52071927-c1cd7100-2562-11e9-908a-dde91ba14e59.png\" width = 600>"
      ],
      "metadata": {
        "id": "huKvc8JJJWKI"
      }
    },
    {
      "cell_type": "code",
      "source": [
        "\n",
        "\n",
        "frase = \"Esto es una frase para contar las ocurrencias de las letras\"\n",
        "frase2  = \"\".join(frase.lower().split())\n",
        "\n",
        "my_dict = dict()\n",
        "for letra in frase2:\n",
        "    if letra not in my_dict.keys():\n",
        "        my_dict[letra] = 1\n",
        "    else:\n",
        "        my_dict[letra] += 1\n",
        "\n",
        "\n",
        "for k, v in my_dict.items():\n",
        "    print(k, v)\n",
        "\n",
        "sorted_values  = sorted(my_dict.items())\n",
        "\n",
        "print(\"-----------------------------------------------------------------------\")\n",
        "for k, v in sorted_values:\n",
        "    print(k,v)\n",
        "\n",
        "\n"
      ],
      "metadata": {
        "id": "htSmC8E-JXzR"
      },
      "execution_count": null,
      "outputs": []
    },
    {
      "cell_type": "markdown",
      "source": [
        "<img src=\"https://user-images.githubusercontent.com/7065401/52071927-c1cd7100-2562-11e9-908a-dde91ba14e59.png\" width = 600>\n",
        "\n",
        "## Funciones\n",
        "\n",
        "La palabra reservada en Python para definir una función es `def` <br>\n",
        "\n",
        "## Nuestra primera función\n",
        "\n",
        "\n",
        "Vamos a crear una funcion que nos salude y nos diga que es una función muy guapa. Esta función no tendrá parámetros.\n",
        "\n",
        "```\n",
        "def miFuncion():\n",
        "    print(\"Hola, soy una función muy guapa!\")\n",
        "```\n",
        "\n",
        "<img src=\"https://user-images.githubusercontent.com/7065401/52071927-c1cd7100-2562-11e9-908a-dde91ba14e59.png\" width = 600>\n"
      ],
      "metadata": {
        "id": "2AHfrLOyPdb5"
      }
    },
    {
      "cell_type": "code",
      "source": [
        "# Definimos la función\n",
        "def miFuncion():\n",
        "    print(\"Hola, soy una función muy guapa!\")\n",
        "\n",
        "# Invocamos la función\n",
        "for i in range(10):\n",
        "    miFuncion()\n",
        "\n",
        "\n",
        "\n"
      ],
      "metadata": {
        "id": "uhnPviXESOFC",
        "colab": {
          "base_uri": "https://localhost:8080/"
        },
        "outputId": "c271ceb7-76ab-4639-f5ba-ca3433ec9e9b"
      },
      "execution_count": null,
      "outputs": [
        {
          "output_type": "stream",
          "name": "stdout",
          "text": [
            "Hola, soy una función muy guapa!\n",
            "Hola, soy una función muy guapa!\n",
            "Hola, soy una función muy guapa!\n",
            "Hola, soy una función muy guapa!\n",
            "Hola, soy una función muy guapa!\n",
            "Hola, soy una función muy guapa!\n",
            "Hola, soy una función muy guapa!\n",
            "Hola, soy una función muy guapa!\n",
            "Hola, soy una función muy guapa!\n",
            "Hola, soy una función muy guapa!\n"
          ]
        }
      ]
    },
    {
      "cell_type": "markdown",
      "source": [
        "<img src=\"https://user-images.githubusercontent.com/7065401/52071927-c1cd7100-2562-11e9-908a-dde91ba14e59.png\" width = 600>\n",
        "\n",
        "### Las funciones pueden tener parámetros.\n",
        "```\n",
        "def mifuncion2(nombre):\n",
        "    print(f\"Hola {nombre}!! Soy una función muy guapa\")\n",
        "```\n",
        "\n",
        "<img src=\"https://user-images.githubusercontent.com/7065401/52071927-c1cd7100-2562-11e9-908a-dde91ba14e59.png\" width = 600>"
      ],
      "metadata": {
        "id": "Ii3dNOv0_NN2"
      }
    },
    {
      "cell_type": "code",
      "source": [
        "# Definimos una funcion que tiene 1 parametro\n",
        "\n",
        "def mifuncion2(nombre):\n",
        "    print(f\"Hola {nombre}!! Soy una función muy guapa\")"
      ],
      "metadata": {
        "id": "2XY9bA_o_Tpg"
      },
      "execution_count": null,
      "outputs": []
    },
    {
      "cell_type": "code",
      "source": [
        "# ahora invocamos la funcion\n",
        "mifuncion2(\"Noelia\")\n",
        "mifuncion2(\"Maria\")\n",
        "mifuncion2(\"Edward\")"
      ],
      "metadata": {
        "id": "0_rWeA_l_t4J",
        "colab": {
          "base_uri": "https://localhost:8080/"
        },
        "outputId": "e7f96098-04c0-47ac-b674-5cf1b3e77a4b"
      },
      "execution_count": null,
      "outputs": [
        {
          "output_type": "stream",
          "name": "stdout",
          "text": [
            "Hola Noelia!! Soy una función muy guapa\n",
            "Hola Maria!! Soy una función muy guapa\n",
            "Hola Edward!! Soy una función muy guapa\n"
          ]
        }
      ]
    },
    {
      "cell_type": "markdown",
      "source": [
        "\n",
        "<img src=\"https://user-images.githubusercontent.com/7065401/52071927-c1cd7100-2562-11e9-908a-dde91ba14e59.png\" width = 600>\n",
        "\n",
        "### Cuidado!! si la función está esperando un parámetro y no se lo damos, se va a generar un error\n",
        "\n",
        "\n",
        "<img src=\"https://user-images.githubusercontent.com/7065401/52071927-c1cd7100-2562-11e9-908a-dde91ba14e59.png\" width = 600>"
      ],
      "metadata": {
        "id": "k-l3N2EC_2un"
      }
    },
    {
      "cell_type": "code",
      "source": [
        "# Que ocurre si no le pasamos un parámetro??\n",
        "\n",
        "mifuncion2()"
      ],
      "metadata": {
        "id": "mQgjvWt8_-5v",
        "colab": {
          "base_uri": "https://localhost:8080/",
          "height": 205
        },
        "outputId": "0b3df27a-9db4-4018-a108-e4f24b2502c2"
      },
      "execution_count": null,
      "outputs": [
        {
          "output_type": "error",
          "ename": "TypeError",
          "evalue": "ignored",
          "traceback": [
            "\u001b[0;31m---------------------------------------------------------------------------\u001b[0m",
            "\u001b[0;31mTypeError\u001b[0m                                 Traceback (most recent call last)",
            "\u001b[0;32m<ipython-input-115-acb51fa25a9a>\u001b[0m in \u001b[0;36m<module>\u001b[0;34m\u001b[0m\n\u001b[1;32m      1\u001b[0m \u001b[0;31m# Que ocurre si no le pasamos un parámetro??\u001b[0m\u001b[0;34m\u001b[0m\u001b[0;34m\u001b[0m\u001b[0;34m\u001b[0m\u001b[0m\n\u001b[1;32m      2\u001b[0m \u001b[0;34m\u001b[0m\u001b[0m\n\u001b[0;32m----> 3\u001b[0;31m \u001b[0mmifuncion2\u001b[0m\u001b[0;34m(\u001b[0m\u001b[0;34m)\u001b[0m\u001b[0;34m\u001b[0m\u001b[0;34m\u001b[0m\u001b[0m\n\u001b[0m",
            "\u001b[0;31mTypeError\u001b[0m: mifuncion2() missing 1 required positional argument: 'nombre'"
          ]
        }
      ]
    },
    {
      "cell_type": "markdown",
      "source": [
        "<img src=\"https://user-images.githubusercontent.com/7065401/52071927-c1cd7100-2562-11e9-908a-dde91ba14e59.png\" width = 600>\n",
        "\n",
        "## Función con parámetro por defecto\n",
        "\n",
        "\n",
        "\n",
        "Para evitar el error que obtuvimos anteriormente, podemos generar un parámetro por defecto:\n",
        "\n",
        "<img src=\"https://user-images.githubusercontent.com/7065401/52071927-c1cd7100-2562-11e9-908a-dde91ba14e59.png\" width = 600>"
      ],
      "metadata": {
        "id": "WK9FflZAAAGG"
      }
    },
    {
      "cell_type": "code",
      "source": [
        "def mifuncion3(nombre=\"Persona misteriosa\"):\n",
        "    print(f\"Hola {nombre}!! Soy una función muy guapa\")\n",
        "\n",
        "mifuncion3()\n",
        "mifuncion3(\"Noelia\")"
      ],
      "metadata": {
        "id": "INZlDMWZAJoe",
        "colab": {
          "base_uri": "https://localhost:8080/"
        },
        "outputId": "ddc26c10-5a5a-4ae9-9cd7-36075addac3a"
      },
      "execution_count": null,
      "outputs": [
        {
          "output_type": "stream",
          "name": "stdout",
          "text": [
            "Hola Persona misteriosa!! Soy una función muy guapa\n",
            "Hola Noelia!! Soy una función muy guapa\n"
          ]
        }
      ]
    },
    {
      "cell_type": "markdown",
      "source": [
        "\n",
        "<img src=\"https://user-images.githubusercontent.com/7065401/52071927-c1cd7100-2562-11e9-908a-dde91ba14e59.png\" width = 600>\n",
        "\n",
        "### **Cuidado!!** cuando pasamos parámetros por defecto, éstos deben ir detrás de los otros parámetros\n",
        "\n",
        "### Caso contrario, se genera un error de sintaxis\n",
        "\n",
        "`SyntaxError: non-default argument follows default argument`\n",
        "\n",
        "\n",
        "<img src=\"https://user-images.githubusercontent.com/7065401/52071927-c1cd7100-2562-11e9-908a-dde91ba14e59.png\" width = 600>"
      ],
      "metadata": {
        "id": "6dnX9-wPAS72"
      }
    },
    {
      "cell_type": "code",
      "source": [
        "# Esto genera un error de sintaxis\n",
        "def datosPersonales(nombre='pepe', apellido, edad):\n",
        "    pass"
      ],
      "metadata": {
        "id": "BUBbuVFPAfIO",
        "colab": {
          "base_uri": "https://localhost:8080/",
          "height": 133
        },
        "outputId": "c866d386-0d4a-497c-c100-c625e58afcb8"
      },
      "execution_count": null,
      "outputs": [
        {
          "output_type": "error",
          "ename": "SyntaxError",
          "evalue": "ignored",
          "traceback": [
            "\u001b[0;36m  File \u001b[0;32m\"<ipython-input-117-84495f8801d7>\"\u001b[0;36m, line \u001b[0;32m2\u001b[0m\n\u001b[0;31m    def datosPersonales(nombre='pepe', apellido, edad):\u001b[0m\n\u001b[0m                        ^\u001b[0m\n\u001b[0;31mSyntaxError\u001b[0m\u001b[0;31m:\u001b[0m non-default argument follows default argument\n"
          ]
        }
      ]
    },
    {
      "cell_type": "code",
      "source": [
        "# La manera correcta es\n",
        "def datosPersonales(apellido, edad, nombre=\"Pepe\"):\n",
        "    print(\"-------------------------------------------------------------\")\n",
        "    print(f\"Nombre = {nombre}\")\n",
        "    print(f\"Apellido = {apellido}\")\n",
        "    print(f\"Edad = {edad}\")\n",
        "    print(\"-------------------------------------------------------------\")\n",
        "\n",
        "\n",
        "datosPersonales(\"Peralta\", 32, \"Maria\")\n",
        "datosPersonales(\"Perez\", 62 )"
      ],
      "metadata": {
        "id": "a1fp7D7PAldO",
        "colab": {
          "base_uri": "https://localhost:8080/"
        },
        "outputId": "ea23ab83-0e5f-4b0a-e8b8-9ed87815fdfa"
      },
      "execution_count": null,
      "outputs": [
        {
          "output_type": "stream",
          "name": "stdout",
          "text": [
            "-------------------------------------------------------------\n",
            "Nombre = Maria\n",
            "Apellido = Peralta\n",
            "Edad = 32\n",
            "-------------------------------------------------------------\n",
            "-------------------------------------------------------------\n",
            "Nombre = Pepe\n",
            "Apellido = Perez\n",
            "Edad = 62\n",
            "-------------------------------------------------------------\n"
          ]
        }
      ]
    },
    {
      "cell_type": "markdown",
      "source": [
        "<img src=\"https://user-images.githubusercontent.com/7065401/52071927-c1cd7100-2562-11e9-908a-dde91ba14e59.png\" width = 600>\n",
        "\n",
        "## Pasar los argumentos en un orden distinto\n",
        "\n",
        "Es posible al invocar una función, pasar los argumentos en un orden diferente al definido. Pero para esto es necesario indicar el nombre del parámetro asociado.\n",
        "\n",
        "<img src=\"https://user-images.githubusercontent.com/7065401/52071927-c1cd7100-2562-11e9-908a-dde91ba14e59.png\" width = 600>\n"
      ],
      "metadata": {
        "id": "hMYeaPIKBLQu"
      }
    },
    {
      "cell_type": "code",
      "source": [
        "datosPersonales(nombre=\"Jacinto\", apellido=\"Pepe\", edad=15)"
      ],
      "metadata": {
        "id": "VSPOrfyMAvk1"
      },
      "execution_count": null,
      "outputs": []
    },
    {
      "cell_type": "markdown",
      "source": [
        "<img src=\"https://user-images.githubusercontent.com/7065401/52071927-c1cd7100-2562-11e9-908a-dde91ba14e59.png\" width = 600>\n",
        "\n",
        "### Las funciones pueden devolver un valor mediante la sentencia return \n",
        "*(algo curioso de python es que aunque no usemos la sentencia return, las funciones siempre retornan un valor)*\n",
        "\n",
        "```\n",
        "def suma(a,b):\n",
        "\n",
        "    suma = a + b\n",
        "    return suma\n",
        "```\n",
        "\n",
        "No es necesario que creemos una variable interna para hacer la suma<br>\n",
        "\n",
        "```\n",
        "def suma2(a, b):\n",
        "    return a + b\n",
        "\n",
        "```\n",
        "\n",
        "También pueden retornar mas de un valor\n",
        "\n",
        "```\n",
        "def suma_resta(a, b):\n",
        "    return a + b, a-b\n",
        "\n",
        "```\n",
        "\n",
        "\n",
        "<img src=\"https://user-images.githubusercontent.com/7065401/52071927-c1cd7100-2562-11e9-908a-dde91ba14e59.png\" width = 600>\n",
        "\n",
        "---"
      ],
      "metadata": {
        "id": "2HRR6GgpBpw-"
      }
    },
    {
      "cell_type": "code",
      "source": [
        "# Restorna 1 valor, la suma de a y b\n",
        "def suma(a,b):\n",
        "    suma = a + b\n",
        "    return suma\n",
        "\n",
        "# Restorna 1 valor, la suma de a y b\n",
        "def suma2(a, b):\n",
        "    return a + b\n",
        "\n",
        "\n",
        "# Restorna 2 valores, la suma de a y b y la resta de a y b\n",
        "def suma_resta(a, b):\n",
        "    return a + b, a-b\n",
        "\n"
      ],
      "metadata": {
        "id": "EcN2am2cB4Hu"
      },
      "execution_count": null,
      "outputs": []
    },
    {
      "cell_type": "code",
      "source": [
        "a = 35\n",
        "b = 23\n",
        "\n",
        "res_suma_1 = suma(a,b)\n",
        "res_suma_2 = suma2(a,b)\n",
        "\n",
        "res_suma_3, res_resta_3 = suma_resta(a, b)\n",
        "\n",
        "print(f\"(func suma)   {a} + {b}  = {res_suma_1}\")\n",
        "print(f\"(func suma2)   {a} + {b}  = {res_suma_2}\")\n",
        "print(f\"(func suma_resta)   {a} + {b}  = {res_suma_3}\")\n",
        "print(f\"(func suma_resta)   {a} - {b}  = {res_resta_3}\")\n",
        "\n"
      ],
      "metadata": {
        "id": "8Ut7sU9sB_Eu",
        "colab": {
          "base_uri": "https://localhost:8080/"
        },
        "outputId": "02169c1b-ccec-4dc5-dfbb-87e678b8c153"
      },
      "execution_count": null,
      "outputs": [
        {
          "output_type": "stream",
          "name": "stdout",
          "text": [
            "(func suma)   35 + 23  = 58\n",
            "(func suma2)   35 + 23  = 58\n",
            "(func suma_resta)   35 + 23  = 58\n",
            "(func suma_resta)   35 - 23  = 12\n"
          ]
        }
      ]
    },
    {
      "cell_type": "code",
      "source": [
        "a = 35\n",
        "b = 23\n",
        "\n",
        "x,y = suma_resta(a,b)\n",
        "x,y"
      ],
      "metadata": {
        "colab": {
          "base_uri": "https://localhost:8080/"
        },
        "id": "iIdnIg3uqKuN",
        "outputId": "c6900156-38e6-4e8a-8ebf-4eb3d238e19d"
      },
      "execution_count": null,
      "outputs": [
        {
          "output_type": "execute_result",
          "data": {
            "text/plain": [
              "(58, 12)"
            ]
          },
          "metadata": {},
          "execution_count": 123
        }
      ]
    },
    {
      "cell_type": "markdown",
      "source": [
        "<img src=\"https://user-images.githubusercontent.com/7065401/52071927-c1cd7100-2562-11e9-908a-dde91ba14e59.png\" width = 600>\n",
        "\n",
        "### En python las funciones siempre retornan un valor (aunque no haya un return)\n",
        "\n",
        "<img src=\"https://user-images.githubusercontent.com/7065401/52071927-c1cd7100-2562-11e9-908a-dde91ba14e59.png\" width = 600>"
      ],
      "metadata": {
        "id": "1ptDoQXhC2oY"
      }
    },
    {
      "cell_type": "code",
      "source": [
        "def saludar():\n",
        "    print(\"Hola. Soy una función que no tiene un return!\")\n",
        "\n",
        "valor_retornado = saludar()\n",
        "\n",
        "print(\"valor_retornado = \",valor_retornado)\n",
        "print(\"type(valor_retornado) =\", type(valor_retornado))"
      ],
      "metadata": {
        "id": "QEaUCftkC6jI",
        "colab": {
          "base_uri": "https://localhost:8080/"
        },
        "outputId": "15e6489d-ae66-4781-e116-7ad46804ea49"
      },
      "execution_count": null,
      "outputs": [
        {
          "output_type": "stream",
          "name": "stdout",
          "text": [
            "Hola. Soy una función que no tiene un return!\n",
            "valor_retornado =  None\n",
            "type(valor_retornado) = <class 'NoneType'>\n"
          ]
        }
      ]
    },
    {
      "cell_type": "markdown",
      "source": [
        "<img src=\"https://user-images.githubusercontent.com/7065401/52071927-c1cd7100-2562-11e9-908a-dde91ba14e59.png\" width = 600>\n",
        "\n",
        "## **Cantidad variable de parámetros**\n",
        "\n",
        "\n",
        "**Es posible pasarle a una función una cantidad variable de argumentos**\n",
        "\n",
        "```\n",
        "def muchosArgs(*args):\n",
        "    if len(args)!=0:\n",
        "        for item in args:\n",
        "            print(item)\n",
        "        \n",
        "        print(f\"\\nCantidad de argumentos = {len(args)}\")\n",
        "    else:\n",
        "        print(\"La función se ha invocado sin argumentos!\")\n",
        "        \n",
        "```\n",
        "\n",
        "<img src=\"https://user-images.githubusercontent.com/7065401/52071927-c1cd7100-2562-11e9-908a-dde91ba14e59.png\" width = 600>"
      ],
      "metadata": {
        "id": "Zn5fBrYCDG5N"
      }
    },
    {
      "cell_type": "code",
      "source": [
        "def muchosArgs(*args):\n",
        "    if len(args)!=0:\n",
        "        for item in args:\n",
        "            print(item)\n",
        "        \n",
        "        print(f\"\\nCantidad de argumentos = {len(args)}\")\n",
        "    else:\n",
        "        print(\"La función se ha invocado sin argumentos!\")\n",
        "\n",
        "    print(\"-----------------------------------------------------------\")\n",
        "\n"
      ],
      "metadata": {
        "id": "iS05bmC6DN11"
      },
      "execution_count": null,
      "outputs": []
    },
    {
      "cell_type": "code",
      "source": [
        "muchosArgs()"
      ],
      "metadata": {
        "id": "HdIk7VTEDZ_5"
      },
      "execution_count": null,
      "outputs": []
    },
    {
      "cell_type": "code",
      "source": [
        "muchosArgs(1,2,3,4,5,6)"
      ],
      "metadata": {
        "id": "JlES9i4xDbsw"
      },
      "execution_count": null,
      "outputs": []
    },
    {
      "cell_type": "code",
      "source": [
        "muchosArgs(\"Perro\", \"Gato\", \"Tiburón\")"
      ],
      "metadata": {
        "id": "EiIiXkxaDdxO"
      },
      "execution_count": null,
      "outputs": []
    },
    {
      "cell_type": "markdown",
      "source": [
        "<img src=\"https://user-images.githubusercontent.com/7065401/52071927-c1cd7100-2562-11e9-908a-dde91ba14e59.png\" width = 600>\n",
        "\n",
        "## **Es posible pasar una cantidad variable de pares key-value también**\n",
        "\n",
        "```\n",
        "\n",
        "def keyValueVariable(**kwargs):\n",
        "    # kwargs es un diccionario\n",
        "\n",
        "    for k, v in kwargs.iteritems():\n",
        "        print(f\"key = {k}   value = {v}\")\n",
        "```\n",
        "\n",
        "<img src=\"https://user-images.githubusercontent.com/7065401/52071927-c1cd7100-2562-11e9-908a-dde91ba14e59.png\" width = 600>"
      ],
      "metadata": {
        "id": "vtPHxyoVDkB-"
      }
    },
    {
      "cell_type": "code",
      "source": [
        "def keyValueVariable(**kwargs):\n",
        "    # kwargs es un diccionario\n",
        "\n",
        "    for k, v in kwargs.items():\n",
        "        print(f\"key = {k}   value = {v}\")\n",
        "    \n",
        "    print(\"-------------------------------------------------------\")\n",
        "\n",
        "\n",
        "keyValueVariable(a=\"primer letra\", b= \"segunda letra\", z= \"última letra\")\n",
        "keyValueVariable(nombre=\"Maria\", apellido=\"Rodriguez\", edad=45)"
      ],
      "metadata": {
        "id": "2Hfn2sV6DpEO"
      },
      "execution_count": null,
      "outputs": []
    },
    {
      "cell_type": "markdown",
      "source": [
        "<img src=\"https://user-images.githubusercontent.com/7065401/52071927-c1cd7100-2562-11e9-908a-dde91ba14e59.png\" width = 600>\n",
        "\n",
        "## Pasaje por valor o por referencia ??\n",
        "\n",
        "\n",
        "\n",
        "* Los valores simples (enteros, flotantes, strings...) se pasan por valor --> se genera una copia y no se afecta el valor original\n",
        "* Los valores compuestos(listas, diccionarios) se pasan por referencia --> los cambios generados dentro de la función tienen efecto en el original\n",
        "\n",
        "<img src=\"https://user-images.githubusercontent.com/7065401/52071927-c1cd7100-2562-11e9-908a-dde91ba14e59.png\" width = 600>\n",
        "\n",
        "### Pasaje por valor\n",
        "\n",
        "<img src=\"https://user-images.githubusercontent.com/7065401/52071927-c1cd7100-2562-11e9-908a-dde91ba14e59.png\" width = 600>"
      ],
      "metadata": {
        "id": "_yvtiEHIDw5m"
      }
    },
    {
      "cell_type": "code",
      "source": [
        "def sumo_diez_y_muestro(a):\n",
        "    a = a+10\n",
        "    print(\"(dentro de la funcion) a = \",a)\n",
        "\n",
        "a = 700\n",
        "print(\"(valor original) a = \", a)\n",
        "sumo_diez_y_muestro(a)\n",
        "\n",
        "print(\"(fuera de la funcion) a = \",a)"
      ],
      "metadata": {
        "id": "AcINMrs8D3bP"
      },
      "execution_count": null,
      "outputs": []
    },
    {
      "cell_type": "code",
      "source": [
        "def agregoWeeee(palabra:str):\n",
        "    palabra = palabra + \" Weeeee\"\n",
        "    print(\"(dentro de la funcion) palabra = \", palabra)\n",
        "\n",
        "palabra = \"Camello\"\n",
        "\n",
        "print(\"(original) palabra = \", palabra)\n",
        "agregoWeeee(palabra)\n",
        "print(\"(fuera de la funcion) palabra = \", palabra)"
      ],
      "metadata": {
        "id": "TQ2LjvqPD8S2"
      },
      "execution_count": null,
      "outputs": []
    },
    {
      "cell_type": "markdown",
      "source": [
        "<img src=\"https://user-images.githubusercontent.com/7065401/52071927-c1cd7100-2562-11e9-908a-dde91ba14e59.png\" width = 600>\n",
        "\n",
        "### Pasaje por referencia\n",
        "\n",
        "<img src=\"https://user-images.githubusercontent.com/7065401/52071927-c1cd7100-2562-11e9-908a-dde91ba14e59.png\" width = 600>"
      ],
      "metadata": {
        "id": "CehqHoRNEE1m"
      }
    },
    {
      "cell_type": "code",
      "source": [
        "a = 18\n",
        "\n",
        "def modifica(a):\n",
        "    a = a+9\n",
        "    print(\"dentro --> \",a)\n",
        "\n",
        "modifica(a)\n",
        "print(\"fuera --> \",a)"
      ],
      "metadata": {
        "colab": {
          "base_uri": "https://localhost:8080/"
        },
        "id": "szRmEPPWqxjv",
        "outputId": "7667197b-ee24-4551-8bae-2a63971724a6"
      },
      "execution_count": null,
      "outputs": [
        {
          "output_type": "stream",
          "name": "stdout",
          "text": [
            "dentro -->  27\n",
            "fuera -->  18\n"
          ]
        }
      ]
    },
    {
      "cell_type": "code",
      "source": [
        "a = [18,25]\n",
        "print(\"antes --> \",a)\n",
        "def modifica(a):\n",
        "    a[0] = 145\n",
        "    print(\"dentro --> \",a)\n",
        "\n",
        "modifica(a)\n",
        "print(\"fuera --> \",a)"
      ],
      "metadata": {
        "colab": {
          "base_uri": "https://localhost:8080/"
        },
        "id": "HFc5RDEsrLW7",
        "outputId": "2988b7a9-ab15-439f-c7b8-967058331525"
      },
      "execution_count": null,
      "outputs": [
        {
          "output_type": "stream",
          "name": "stdout",
          "text": [
            "antes -->  [18, 25]\n",
            "dentro -->  [145, 25]\n",
            "fuera -->  [145, 25]\n"
          ]
        }
      ]
    },
    {
      "cell_type": "code",
      "source": [
        "lista = list(range(10))\n",
        "print(\"(antes de invocar a la funcion) lista = \", lista)\n",
        "\n",
        "def cambio_primero_ultimo_y_muestro(lista:list):\n",
        "    lista[0] = 3333\n",
        "    lista[-1] = 4444\n",
        "    print(\"(dentro de la funcion) lista = \", lista)\n",
        "\n",
        "\n",
        "cambio_primero_ultimo_y_muestro(lista)\n",
        "print(\"(despues de invocar a la funcion) lista = \", lista)"
      ],
      "metadata": {
        "id": "en2d6cKUEKMm"
      },
      "execution_count": null,
      "outputs": []
    },
    {
      "cell_type": "markdown",
      "source": [
        "---\n",
        "# Librerias\n",
        "\n",
        "---"
      ],
      "metadata": {
        "id": "gccknVgCry0K"
      }
    },
    {
      "cell_type": "code",
      "source": [
        "import numpy as np\n",
        "import pandas as pd\n",
        "import matplotlib.pyplot as plt\n",
        "\n"
      ],
      "metadata": {
        "id": "lD55-NQgr1FJ"
      },
      "execution_count": null,
      "outputs": []
    },
    {
      "cell_type": "code",
      "source": [
        "arr = np.array([1,2,3,4])\n",
        "arr"
      ],
      "metadata": {
        "colab": {
          "base_uri": "https://localhost:8080/"
        },
        "id": "B2LpwH_Lsmyd",
        "outputId": "c48b91dd-1c1d-42fe-e1d8-4bac57fccacb"
      },
      "execution_count": null,
      "outputs": [
        {
          "output_type": "execute_result",
          "data": {
            "text/plain": [
              "array([1, 2, 3, 4])"
            ]
          },
          "metadata": {},
          "execution_count": 128
        }
      ]
    }
  ]
}